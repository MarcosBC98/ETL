{
 "cells": [
  {
   "cell_type": "markdown",
   "metadata": {},
   "source": [
    "# Lectura de ficheros tipo .json y .yaml\n",
    "\n",
    "## Marcos Barragán Corredera\n",
    "\n",
    "### ETL 2020/2021"
   ]
  },
  {
   "cell_type": "markdown",
   "metadata": {},
   "source": [
    "### Objetivo:\n",
    "\n",
    "El objetivo de esta práctica consiste en la familiarización con los ficheros de datos _.json_ y _.yaml_. Para ello, se buscará cómo generar y cómo leer y cargar este tipo ficheros en Python."
   ]
  },
  {
   "cell_type": "markdown",
   "metadata": {},
   "source": [
    "#### 1) Ficheros _.json_"
   ]
  },
  {
   "cell_type": "markdown",
   "metadata": {},
   "source": [
    "Los ficheros _.json_ son formatos de texto sencillo para el intercambio de datos. Se trata de un subconjunto de la notación literal de objetos de JavaScript. Este tipo de ficheros permite incluir:\n",
    "\n",
    "+ Números: incluidos negativos y fracciones, con la parte fraccional separada por puntos.\n",
    "\n",
    "+ Cadenas: secuencias de caracteres. Se ponen entre doble comilla.\n",
    "\n",
    "+ Booleanos: valores `True` y `False`.\n",
    "\n",
    "+ Null: representan el valor nulo (nan).\n",
    "\n",
    "+ Array: Representa una lista ordenada de cero o más valores, que pueden ser de cualquier tipo. Los valores se separan por comas y el vector se mete entre corchetes (como en python). \n",
    "\n",
    "+ Objetos: colecciones no ordenadas de pares de la forma separados por comas y puestas entre llaves."
   ]
  },
  {
   "cell_type": "markdown",
   "metadata": {},
   "source": [
    "Python presenta un paquete/librería que permite trabajar con este tipo de estructuras. La librería se llama __json__, y será la que nos permita abrir ficheros de ese mismo tipo. "
   ]
  },
  {
   "cell_type": "code",
   "execution_count": 1,
   "metadata": {},
   "outputs": [],
   "source": [
    "import json"
   ]
  },
  {
   "cell_type": "markdown",
   "metadata": {},
   "source": [
    "La estructura para crear ficheros .json es: "
   ]
  },
  {
   "cell_type": "code",
   "execution_count": 29,
   "metadata": {},
   "outputs": [],
   "source": [
    "data_json = {}\n",
    "\n",
    "data_json['Clientes'] = []\n",
    "\n",
    "data_json['Clientes'].append({\n",
    "    'Nombre': 'Paco',\n",
    "    'Apellidos': 'García López',\n",
    "    'Edad': 27,\n",
    "    'Deuda (€)': 7.17})\n",
    "\n",
    "data_json['Clientes'].append({\n",
    "    'Nombre': 'Pepe',\n",
    "    'Apellidos': 'Jiménez Peña',\n",
    "    'Edad': 45,\n",
    "    'Deuda (€)': 900.20})\n",
    "\n",
    "data_json['Clientes'].append({\n",
    "    'Nombre': 'María',\n",
    "    'Apellidos': 'Fuertes Domínguez',\n",
    "    'Edad': 23,\n",
    "    'Deuda (€)': 71.37})\n",
    "\n",
    "with open('data.json', 'w', encoding = 'utf8') as file:\n",
    "    json.dump(data_json, file, indent = 4)"
   ]
  },
  {
   "cell_type": "markdown",
   "metadata": {},
   "source": [
    "Vemos que presenta una estructura similar a la de un diccionario de datos de Python. Nótese la importancia de especificar que queremos que se guarde como un UTF-8, porque si no no entendería las tildes o los caracteres extraños (como la ñ, el €, etc.).\n",
    "La `w` dentro del open hace referencia a que es un archivo solo de escritura.\n",
    "\n",
    "Para leer este tipo de ficheros podemos hacer:"
   ]
  },
  {
   "cell_type": "code",
   "execution_count": 30,
   "metadata": {},
   "outputs": [
    {
     "data": {
      "text/plain": [
       "{'Clientes': [{'Nombre': 'Paco',\n",
       "   'Apellidos': 'García López',\n",
       "   'Edad': 27,\n",
       "   'Deuda (€)': 7.17},\n",
       "  {'Nombre': 'Pepe',\n",
       "   'Apellidos': 'Jiménez Peña',\n",
       "   'Edad': 45,\n",
       "   'Deuda (€)': 900.2},\n",
       "  {'Nombre': 'María',\n",
       "   'Apellidos': 'Fuertes Domínguez',\n",
       "   'Edad': 23,\n",
       "   'Deuda (€)': 71.37}]}"
      ]
     },
     "execution_count": 30,
     "metadata": {},
     "output_type": "execute_result"
    }
   ],
   "source": [
    "prueba = open('data.json', encoding=\"utf8\")\n",
    "\n",
    "data = json.load(prueba)\n",
    "\n",
    "data"
   ]
  },
  {
   "cell_type": "markdown",
   "metadata": {},
   "source": [
    "O bien:"
   ]
  },
  {
   "cell_type": "code",
   "execution_count": 9,
   "metadata": {},
   "outputs": [
    {
     "data": {
      "text/plain": [
       "{'Clientes': [{'Nombre': 'Paco',\n",
       "   'Apellidos': 'García López',\n",
       "   'Edad': 27,\n",
       "   'Deuda (€)': 7.17},\n",
       "  {'Nombre': 'Pepe',\n",
       "   'Apellidos': 'Jiménez Peña',\n",
       "   'Edad': 45,\n",
       "   'Deuda (€)': 900.2},\n",
       "  {'Nombre': 'María',\n",
       "   'Apellidos': 'Fuertes Domínguez',\n",
       "   'Edad': 23,\n",
       "   'Deuda (€)': 71.37}]}"
      ]
     },
     "execution_count": 9,
     "metadata": {},
     "output_type": "execute_result"
    }
   ],
   "source": [
    "with open('data.json') as file:\n",
    "    data = json.load(file)\n",
    "    \n",
    "data"
   ]
  },
  {
   "cell_type": "markdown",
   "metadata": {},
   "source": [
    "Además de generarlo aquí, para comprobar que funciona con archivos externos, lo que hice fue crearme un archivo con ese formato en un archivo de texto y guardarlo en la misma carpeta, con el objetivo de abrirlo a través de esa función. \n",
    "\n",
    "Este archivo lo llamé: _prueba.json_. "
   ]
  },
  {
   "cell_type": "code",
   "execution_count": 11,
   "metadata": {},
   "outputs": [
    {
     "data": {
      "text/plain": [
       "{'data': [{'Codigo_Postal': 28001,\n",
       "   'Nombre_Calle': 'Calle General Mola',\n",
       "   'Portal': 62,\n",
       "   'Piso': 8,\n",
       "   'sexo': 'Hombre'},\n",
       "  {'Codigo_Postal': 28003,\n",
       "   'Nombre_Calle': 'Calle Los Vascos',\n",
       "   'Portal': 2,\n",
       "   'Piso': 4,\n",
       "   'sexo': 'Mujer'},\n",
       "  {'Codigo_Postal': 28003,\n",
       "   'Nombre_Calle': 'Calle Beatriz de Boadilla',\n",
       "   'Portal': 13,\n",
       "   'Piso': 5,\n",
       "   'sexo': 'Hombre'}]}"
      ]
     },
     "execution_count": 11,
     "metadata": {},
     "output_type": "execute_result"
    }
   ],
   "source": [
    "prueba = open('prueba.json', encoding=\"utf8\")\n",
    "\n",
    "datos = json.load(prueba)\n",
    "\n",
    "datos"
   ]
  },
  {
   "cell_type": "markdown",
   "metadata": {},
   "source": [
    "### 2) Ficheros yaml"
   ]
  },
  {
   "cell_type": "markdown",
   "metadata": {},
   "source": [
    "Los ficheros tipo YAML fueron creados bajo la creencia de que todos los datos pueden ser representados adecuadamente como combinaciones de listas, mapeos y datos escalares. \n",
    "\n",
    "La sintaxis es relativamente sencilla, prácticamente es un objeto tipo diccionario de Python. Fue implantada con el fin de que fuese entendible fácilmente pero que a la vez fuese empleable por los tipos de datos más comunes en la mayoría de los lenguajes de alto nivel. \n",
    "\n",
    "Algunas consideraciones sobre este tipo de ficheros:\n",
    "\n",
    "+ Los contenidos en YAML se describen utilizando el conjunto de caracteres imprimibles de Unicode, bien en UTF-8 o UTF-16.\n",
    "\n",
    "+ La estructura del documento se denota indentando con espacios en blanco; sin embargo no se permite el uso de caracteres de tabulación para sangrar.\n",
    "\n",
    "+ Los miembros de las listas se denotan encabezados por un guion ( - ) con un miembro por cada línea, o bien entre corchetes y separados por coma espacio.\n",
    "\n",
    "+ Los vectores asociativos se representan usando los dos puntos seguidos por un espacio. en la forma \"clave: valor\", como en un diccionario de Python. \n",
    "\n",
    "+ Los escalares, por lo general, aparecen sin entrecomillar, pero pueden incluirse entre comillas. En mi caso, los pondré con comillas. \n",
    "\n",
    "+ Se pueden incluir múltiples documentos dentro de un único flujo, separándolos por tres guiones. \n",
    "\n",
    "+ Tres indican el fin de un documento dentro de un flujo.\n",
    "\n",
    "+ Los nodos repetidos se pueden denotar con & y ser referidos posteriormente usando *.\n",
    "\n",
    "+ Los nodos pueden etiquetarse con un tipo o etiqueta utilizando el signo de exclamación( ! ) seguido de una cadena que puede ser expandida en una URL."
   ]
  },
  {
   "cell_type": "markdown",
   "metadata": {},
   "source": [
    "Como en el caso anterior, para trabajar con ficheros tipo _.yaml_ debemos cargar la librería con el mismo nombre de Python:"
   ]
  },
  {
   "cell_type": "code",
   "execution_count": 12,
   "metadata": {},
   "outputs": [],
   "source": [
    "import yaml"
   ]
  },
  {
   "cell_type": "code",
   "execution_count": 26,
   "metadata": {},
   "outputs": [],
   "source": [
    "prueba_yaml = open('prueba2.yaml', encoding = \"utf8\")\n",
    "\n",
    "datos_yaml = yaml.load(prueba_yaml)"
   ]
  },
  {
   "cell_type": "code",
   "execution_count": 27,
   "metadata": {},
   "outputs": [
    {
     "data": {
      "text/plain": [
       "[{'nombre': 'Marcos', 'appelido': 'López', 'ocupacion': 'Jardinero'},\n",
       " {'nombre': 'Paula', 'apellido': 'Berenguer', 'ocupacion': 'Peluquera'},\n",
       " {'nombre': 'Pedro', 'apellido': 'Piqueras', 'ocupacion': 'presentador'}]"
      ]
     },
     "execution_count": 27,
     "metadata": {},
     "output_type": "execute_result"
    }
   ],
   "source": [
    "datos_yaml"
   ]
  },
  {
   "cell_type": "markdown",
   "metadata": {},
   "source": [
    "También se pueden leer creando una función que lo haga: "
   ]
  },
  {
   "cell_type": "code",
   "execution_count": 24,
   "metadata": {},
   "outputs": [],
   "source": [
    "def read_yaml_file(prueba2):\n",
    "    with open(prueba2, 'r', encoding = \"utf8\") as stream:\n",
    "        try:\n",
    "            print(yaml.safe_load(stream))\n",
    "        except yaml.YAMLError as exc:\n",
    "            print(exc)"
   ]
  },
  {
   "cell_type": "code",
   "execution_count": 25,
   "metadata": {},
   "outputs": [
    {
     "name": "stdout",
     "output_type": "stream",
     "text": [
      "[{'nombre': 'Marcos', 'appelido': 'López', 'ocupacion': 'Jardinero'}, {'nombre': 'Paula', 'apellido': 'Berenguer', 'ocupacion': 'Peluquera'}, {'nombre': 'Pedro', 'apellido': 'Piqueras', 'ocupacion': 'presentador'}]\n"
     ]
    }
   ],
   "source": [
    "read_yaml_file(\"prueba2.yaml\")"
   ]
  },
  {
   "cell_type": "markdown",
   "metadata": {},
   "source": [
    "Para generar ficheros _.yaml_ haremos como antes: "
   ]
  },
  {
   "cell_type": "code",
   "execution_count": 32,
   "metadata": {},
   "outputs": [],
   "source": [
    "prueba_yaml = [{'Nombre': 'Paco', 'Apellidos': 'García López', 'Edad': '27', 'Deuda (€)': '7.17'},\n",
    "               {'Nombre': 'Pepe', 'Apellidos': 'Jiménez Peña', 'Edad': '45', 'Deuda (€)': '900.20'},\n",
    "               {'Nombre': 'María', 'Apellidos': 'Fuertes Domínguez', 'Edad': 23, 'Deuda (€)': '71.37'}]"
   ]
  },
  {
   "cell_type": "code",
   "execution_count": 35,
   "metadata": {},
   "outputs": [],
   "source": [
    "with open('data_yaml.yaml', 'w', encoding = 'utf8') as file:\n",
    "    yaml.dump(prueba_yaml, file)"
   ]
  },
  {
   "cell_type": "markdown",
   "metadata": {},
   "source": [
    "Con eso, habríamos generado un fichero de datos en formato _.yaml_, llamado prueba_yaml."
   ]
  }
 ],
 "metadata": {
  "kernelspec": {
   "display_name": "Python 3",
   "language": "python",
   "name": "python3"
  },
  "language_info": {
   "codemirror_mode": {
    "name": "ipython",
    "version": 3
   },
   "file_extension": ".py",
   "mimetype": "text/x-python",
   "name": "python",
   "nbconvert_exporter": "python",
   "pygments_lexer": "ipython3",
   "version": "3.7.1"
  }
 },
 "nbformat": 4,
 "nbformat_minor": 2
}
