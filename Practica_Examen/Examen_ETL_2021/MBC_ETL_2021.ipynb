{
 "cells": [
  {
   "cell_type": "markdown",
   "metadata": {
    "id": "ds4N3okqOKmf"
   },
   "source": [
    "# __Marcos Barragán Corredera__\n",
    "\n",
    "## Tarea Final ETL\n",
    "\n",
    "### 01/02/2021\n",
    "\n",
    "### CUNEF"
   ]
  },
  {
   "cell_type": "markdown",
   "metadata": {
    "id": "J-qLk8euY3Ai"
   },
   "source": [
    "# TAREA FINAL: Datos de vivienda\n",
    "\n",
    "<p> El negocio inmobiliario es uno de los motores de la economía de España, el carácter turístico de nuesta península hace que sean muchos los inversores extranjeros que se decidan por buscar una inversión de bajo riesgos en nuestras ciudades costeras o grandes urbes. \n",
    "Muchas de estas inversiones se hacen sobre grandes bolsas de inmuebles que deben ser analizados previamente para comprobar la rentabilidad del porfolio </p>\n",
    "\n",
    "<!-- <p> En este caso vamos a trabajar con una tabla que contienen información de distintos inmuebles repartidos por una zona específica, sus carácterísticas y su precio </p>  -->"
   ]
  },
  {
   "cell_type": "markdown",
   "metadata": {
    "id": "K54DPJwBY3Al"
   },
   "source": [
    "Todas las cuestiones se deben realizar sobre el conjunto de casos que representen viviendas ubicadas en zonas residenciales **(alta, media y baja densidad)**"
   ]
  },
  {
   "cell_type": "markdown",
   "metadata": {
    "id": "-jCJJ6D4Y3Am"
   },
   "source": [
    "**MUY IMPORTANTE:** En las otras prácticas he detectado colaboraciones involucrando varias personas y he sido flexible aunque a algunos os lo he mencionado en las correcciones, porque al final el trabajo de analista de datos es un trabajo colaborativo. Sin embargo, este trabajo es individual, así que cuidado con las colaboraciones."
   ]
  },
  {
   "cell_type": "markdown",
   "metadata": {
    "id": "UtuP5cX-Y3An"
   },
   "source": [
    "Las variables de las que se compone el dataset son:"
   ]
  },
  {
   "cell_type": "markdown",
   "metadata": {
    "id": "g7AEvYTIY3Ao"
   },
   "source": [
    "|NOMBRE VARIABLE|DESCRIPTOR|VALORES|\n",
    "| --- | --- | --- |\n",
    "|Order|Variable de identificación|1 a 2930|\n",
    "|MS Zoning|Zona de ubicación de la vivienda|\"A rural, C comercial, FV residencial flotante, I industrial, RH residencial alta densidad, RL residencial baja densidad, RM residencial media densidad\"|\n",
    "|Lot Frontage|Longitud de la fachada en pies||\n",
    "|Lot Area|Superficie de la vivienda en pies cuadrados||\n",
    "|Land Contour|Contorno del terreno circundante|\"Lvl llano, Bnk Tipo bancal, HLS Ladera, Low Depresión\"|\n",
    "|Land Slope|Tipo de pendiente de la vivienda|\" Gtl pendiente suave, Mod pendiente moderada, Sev fuerte pendiente\"|\n",
    "|Overall Qual|Grado de calidad de materiales y acabado de la vivienda|De 1 (Muy pobre) a 10 (Excelente)|\n",
    "|Year Built|Año de construccion de la vivienda||\n",
    "|Year Remod/Add|Año de última reforma de la vivienda||\n",
    "|Mas Vnr Type|Tipo de revestimiento exterior|\" BrkCmn Ladrillo normal, BrkFace Ladrillo visto, CBlock Bloque de cemento, None Ninguna, Stone Piedra \"|\n",
    "|Exter Qual|Calidad de revestimiento exterior|\"Ex Excelente,Gd Bueno,TA Media,Fa Justo\"|\n",
    "|Bsmt Cond|Estado general del sótano|\"Ex Excelente, Gd Bueno, TA Media, Fa Justo, Po Pobre,Ss sin sótano\"|\n",
    "|Total Bsmt SF|Superficie del sótano en pies cuadrados|\n",
    "|Heating QC|Calidad de la calefacción|\"Ex Excelente,Gd Bueno,TA Media,Fa Justo,Po Pobre\"|\n",
    "|Central Air|Aire acondicionado centralizado|\"N No Y Sí\"|\n",
    "|Full Bath|Número de baños completo en planta||\n",
    "|Half Bath|Número de aseos en planta||\n",
    "|Bedroom AbvGr|Número de dormitorios en planta||\n",
    "|Kitchen AbvGr|Número de cocinas en planta||\n",
    "|Kitchen Qual|Calidad de cocinas|\"Ex Excelente,Gd Bueno,TA Media,Fa Justo,Po Pobre\"|\n",
    "|TotRms AbvGrd|Número total de habitaciones excluidos los cuartos de baño||\n",
    "|Garage Cars|Número de plazas de garaje||\n",
    "|Garage Area|Superficie del garaje|||\n",
    "|Garage Cond|Estado del garaje|\"Ex Excelente,Gd Bueno,TA Media,Fa Justo,Po Pobre,Sg sin garaje\"|\n",
    "|Pool Area|Superficie de la piscina en pies cuadrados|\n",
    "|Pool QC|Calidad de la piscina|\"Ex Excelente,Gd Bueno,TA Media,Fa Justo,Sp no hay piscina\"|\n",
    "|Mo Sold|mes de venta||\n",
    "|Yr Sold|año de venta||\n",
    "|SalePrice|precio de venta en dólares||"
   ]
  },
  {
   "cell_type": "markdown",
   "metadata": {
    "id": "ZuEsnt8SY3Ap"
   },
   "source": [
    "Recomiendo al leer los datos, eliminar espacios de los nombres de las columnas, realiza un pequeño análisis inicial de los mismos. No olvides fijarte en los tipos de variables, que variables pueden tener tipos confundidos y corrige los. Sobre todo, trabaja con las fechas."
   ]
  },
  {
   "cell_type": "markdown",
   "metadata": {
    "id": "Fo14deNqY3Ap"
   },
   "source": [
    "**NOTA:** Las tareas complementarias sirven para subir nota. El resto de preguntas valen igual y suman 10 puntos."
   ]
  },
  {
   "cell_type": "markdown",
   "metadata": {
    "id": "YoQnsRMmY3Aq"
   },
   "source": [
    "## __1.- Inicializar y cargar el contexto spark__"
   ]
  },
  {
   "cell_type": "code",
   "execution_count": 1,
   "metadata": {
    "id": "xwOqqobHZnEo"
   },
   "outputs": [],
   "source": [
    "!apt-get install openjdk-8-jdk-headless -qq > /dev/null\n",
    "!wget -q https://www-us.apache.org/dist/spark/spark-2.4.7/spark-2.4.7-bin-hadoop2.7.tgz\n",
    "!tar xf spark-2.4.7-bin-hadoop2.7.tgz\n",
    "!pip install -q findspark"
   ]
  },
  {
   "cell_type": "code",
   "execution_count": 2,
   "metadata": {
    "id": "9wSwIRIWZm1B"
   },
   "outputs": [],
   "source": [
    "import os\n",
    "os.environ[\"JAVA_HOME\"] = \"/usr/lib/jvm/java-8-openjdk-amd64\"\n",
    "os.environ[\"SPARK_HOME\"] = \"/content/spark-2.4.7-bin-hadoop2.7\""
   ]
  },
  {
   "cell_type": "code",
   "execution_count": 3,
   "metadata": {
    "id": "ZfVsLevvaHX8"
   },
   "outputs": [],
   "source": [
    "import findspark \n",
    "findspark.init()\n",
    "from pyspark import SparkContext\n",
    "sc = SparkContext.getOrCreate()\n",
    "from pyspark.sql import SparkSession\n",
    "spark = SparkSession.builder.master(\"local[*]\").getOrCreate()"
   ]
  },
  {
   "cell_type": "code",
   "execution_count": 4,
   "metadata": {
    "id": "e3YUqp5EQJhS"
   },
   "outputs": [],
   "source": [
    "from pyspark.sql import Row\n",
    "\n",
    "# Para gráficos que vendrán después:\n",
    "import numpy as np\n",
    "import matplotlib.pyplot as plt\n",
    "import seaborn as sns"
   ]
  },
  {
   "cell_type": "code",
   "execution_count": 7,
   "metadata": {
    "id": "VwYWV-1iahxI"
   },
   "outputs": [],
   "source": [
    "data_file_1 = \"./BDpracticafinalCSV.csv\"\n",
    "raw_data_1 = sc.textFile(data_file_1)\n",
    "data_file_2 = \"./BDpracticafinal2021.xlsx\"\n",
    "raw_data_2 = sc.textFile(data_file_2)"
   ]
  },
  {
   "cell_type": "code",
   "execution_count": 8,
   "metadata": {
    "colab": {
     "base_uri": "https://localhost:8080/"
    },
    "id": "E7C-0h-QahsP",
    "outputId": "6f212958-6835-4d93-b68c-dd54f7d65eb7"
   },
   "outputs": [
    {
     "data": {
      "text/plain": [
       "['Order;MS Zoning;Lot Frontage;Lot Area;Land Contour;Land Slope;Overall Qual;Year Built;Year Remod/Add;Mas Vnr Type;Exter Qual;Bsmt Cond;Total Bsmt SF;Heating QC;Central Air;Full Bath;Half Bath;Bedroom AbvGr;Kitchen AbvGr;Kitchen Qual;TotRms AbvGrd;Garage Cars;Garage Area;Garage Cond;Pool Area;Pool QC;Mo Sold;Yr Sold;SalePrice',\n",
       " '1;RL;141;31770;Lvl;Gtl;6;1960;1960;Stone;TA;Gd;1080;Fa;Y;1;0;3;1;TA;7;2;528;TA;0;Sp;5;2010;215000',\n",
       " '2;RH;80;11622;Lvl;Gtl;5;1961;1961;None;TA;TA;882;TA;Y;1;0;2;1;TA;5;1;730;TA;0;Sp;6;2010;105000',\n",
       " '3;RL;81;14267;Lvl;Gtl;6;1958;1958;BrkFace;TA;TA;1329;TA;Y;1;1;3;1;Gd;6;1;312;TA;0;Sp;6;2010;172000',\n",
       " '4;RL;93;11160;Lvl;Gtl;7;1968;1968;None;Gd;TA;2110;Ex;Y;2;1;3;1;Ex;8;2;522;TA;0;Sp;4;2010;244000',\n",
       " '5;RL;74;13830;Lvl;Gtl;5;1997;1998;None;TA;TA;928;Gd;Y;2;1;3;1;TA;6;2;482;TA;0;Sp;3;2010;189900',\n",
       " '6;RL;78;9978;Lvl;Gtl;6;1998;1998;BrkFace;TA;TA;926;Ex;Y;2;1;3;1;Gd;7;2;470;TA;0;Sp;6;2010;195500',\n",
       " '7;RL;41;4920;Lvl;Gtl;8;2001;2001;None;Gd;TA;1338;Ex;Y;2;0;2;1;Gd;6;2;582;TA;0;Sp;4;2010;213500']"
      ]
     },
     "execution_count": 8,
     "metadata": {
      "tags": []
     },
     "output_type": "execute_result"
    }
   ],
   "source": [
    "raw_data_1.take(8)"
   ]
  },
  {
   "cell_type": "markdown",
   "metadata": {
    "id": "xSP_dnpM9kcs"
   },
   "source": [
    "Una vez que hemos cargado los datos y hemos visto visto cómo deberíamos llevar a cabo el parseado, lo que haré será eliminar la cabecera de los datos. Para ello, utilizando conceptos y funciones de RDD de PySpark:"
   ]
  },
  {
   "cell_type": "code",
   "execution_count": 9,
   "metadata": {
    "id": "5wsCyemZdWvH"
   },
   "outputs": [],
   "source": [
    "cabecera = raw_data_1.first()\n",
    "cabecera_paralellize = sc.parallelize([cabecera])\n",
    "datos = raw_data_1.subtract(cabecera_paralellize)"
   ]
  },
  {
   "cell_type": "markdown",
   "metadata": {
    "id": "265lrD9vjQtX"
   },
   "source": [
    "Una vez hemos eliminado la cabecera, creo un rdd que solo contenga aquellas observaciones que vayamos utilizar a lo largo de la práctica, que son: `Zona`, `Año de construcción`, `Año de venta`, `Calidad de calefacción`, `Indicador de la vivienda`, `Número de cocinas`, `Número de garajes`, `Número de dormitorios`, pies$^{2}$ , `Precio`, `Superficie del sótano` y `tipo de revestimiento`:\n"
   ]
  },
  {
   "cell_type": "code",
   "execution_count": 10,
   "metadata": {
    "id": "vwrN7xTLP4mW"
   },
   "outputs": [],
   "source": [
    "datos_buenos = datos.\\\n",
    "  map(lambda x: x.split(';')).\\\n",
    "  map(lambda x: Row(\n",
    "      indicador = (x[0]),\n",
    "      Zona = (x[1]),\n",
    "      pies2 = (x[3]),\n",
    "      año_construccion = (x[7]),\n",
    "      tipo_revestimiento = (x[9]),\n",
    "      calidad_calefaccion = (x[13]),\n",
    "      numero_habitaciones = (x[-12]),\n",
    "      numero_cocina = (x[-11]),\n",
    "      numero_garajes = (x[-8]),\n",
    "      año_venta = (x[-2]),\n",
    "      sup_sotano = (x[-17]),\n",
    "      precio = (x[-1])\n",
    "  ))"
   ]
  },
  {
   "cell_type": "markdown",
   "metadata": {
    "id": "yLYJZxb6XgLl"
   },
   "source": [
    "El orden de los datos es: \n",
    "\n",
    "+ 0: Zona\n",
    "\n",
    "+ 1: Año construcción\n",
    "\n",
    "+ 2: Año de venta\n",
    "\n",
    "+ 3: calidad de la calefacción\n",
    "\n",
    "+ 4: indicador del piso\n",
    "\n",
    "+ 5: Números de cocinas\n",
    "\n",
    "+ 6: Número de garajes\n",
    "\n",
    "+ 7: Número de habitaciones\n",
    "\n",
    "+ 8: pies$^{2}$\n",
    "\n",
    "+ 9: Precio\n",
    "\n",
    "+ 10: Tipo de revestimiento"
   ]
  },
  {
   "cell_type": "markdown",
   "metadata": {
    "id": "gu-wK6t6AWWa"
   },
   "source": [
    "Comprobamos si hay alguna columna que tenga valores nulos: "
   ]
  },
  {
   "cell_type": "code",
   "execution_count": 11,
   "metadata": {
    "colab": {
     "base_uri": "https://localhost:8080/"
    },
    "id": "zqj0_-znR3rJ",
    "outputId": "1d0d7f45-a654-402f-f199-35020474fd9b"
   },
   "outputs": [
    {
     "data": {
      "text/plain": [
       "[Row(Zona='RL', año_construccion='2007', año_venta='2007', calidad_calefaccion='Ex', indicador='1728', numero_cocina='1', numero_garajes='2', numero_habitaciones='3', pies2='15810', precio='181755', sup_sotano='768', tipo_revestimiento=''),\n",
       " Row(Zona='FV', año_construccion='2007', año_venta='2007', calidad_calefaccion='Ex', indicador='1800', numero_cocina='1', numero_garajes='3', numero_habitaciones='3', pies2='12217', precio='310013', sup_sotano='955', tipo_revestimiento=''),\n",
       " Row(Zona='FV', año_construccion='2006', año_venta='2007', calidad_calefaccion='Ex', indicador='1840', numero_cocina='1', numero_garajes='2', numero_habitaciones='2', pies2='5330', precio='207500', sup_sotano='1550', tipo_revestimiento=''),\n",
       " Row(Zona='RL', año_construccion='1957', año_venta='2007', calidad_calefaccion='TA', indicador='2230', numero_cocina='2', numero_garajes='2', numero_habitaciones='4', pies2='32668', precio='200624', sup_sotano='2035', tipo_revestimiento=''),\n",
       " Row(Zona='RL', año_construccion='2002', año_venta='2009', calidad_calefaccion='Ex', indicador='485', numero_cocina='1', numero_garajes='3', numero_habitaciones='4', pies2='12891', precio='257500', sup_sotano='870', tipo_revestimiento=''),\n",
       " Row(Zona='FV', año_construccion='2008', año_venta='2009', calidad_calefaccion='Ex', indicador='518', numero_cocina='1', numero_garajes='2', numero_habitaciones='3', pies2='7993', precio='225000', sup_sotano='1436', tipo_revestimiento=''),\n",
       " Row(Zona='RL', año_construccion='2002', año_venta='2009', calidad_calefaccion='Ex', indicador='868', numero_cocina='1', numero_garajes='2', numero_habitaciones='3', pies2='8749', precio='198500', sup_sotano='840', tipo_revestimiento=''),\n",
       " Row(Zona='RL', año_construccion='2006', año_venta='2008', calidad_calefaccion='Ex', indicador='1120', numero_cocina='1', numero_garajes='2', numero_habitaciones='3', pies2='10037', precio='247000', sup_sotano='1460', tipo_revestimiento=''),\n",
       " Row(Zona='FV', año_construccion='2007', año_venta='2008', calidad_calefaccion='Ex', indicador='1123', numero_cocina='1', numero_garajes='2', numero_habitaciones='3', pies2='11639', precio='182000', sup_sotano='1428', tipo_revestimiento=''),\n",
       " Row(Zona='FV', año_construccion='2007', año_venta='2008', calidad_calefaccion='Ex', indicador='1128', numero_cocina='1', numero_garajes='2', numero_habitaciones='3', pies2='8125', precio='205950', sup_sotano='813', tipo_revestimiento=''),\n",
       " Row(Zona='RL', año_construccion='2007', año_venta='2007', calidad_calefaccion='Ex', indicador='1784', numero_cocina='1', numero_garajes='2', numero_habitaciones='3', pies2='9965', precio='235876', sup_sotano='1528', tipo_revestimiento=''),\n",
       " Row(Zona='RL', año_construccion='2002', año_venta='2010', calidad_calefaccion='Ex', indicador='56', numero_cocina='1', numero_garajes='2', numero_habitaciones='4', pies2='7851', precio='216500', sup_sotano='860', tipo_revestimiento=''),\n",
       " Row(Zona='RL', año_construccion='2003', año_venta='2009', calidad_calefaccion='Ex', indicador='539', numero_cocina='1', numero_garajes='2', numero_habitaciones='2', pies2='10083', precio='184900', sup_sotano='1176', tipo_revestimiento=''),\n",
       " Row(Zona='RL', año_construccion='2002', año_venta='2008', calidad_calefaccion='Ex', indicador='1096', numero_cocina='1', numero_garajes='2', numero_habitaciones='3', pies2='7750', precio='176000', sup_sotano='707', tipo_revestimiento=''),\n",
       " Row(Zona='FV', año_construccion='2002', año_venta='2008', calidad_calefaccion='Ex', indicador='1185', numero_cocina='1', numero_garajes='2', numero_habitaciones='3', pies2='7500', precio='205000', sup_sotano='952', tipo_revestimiento=''),\n",
       " Row(Zona='FV', año_construccion='2006', año_venta='2007', calidad_calefaccion='Ex', indicador='1841', numero_cocina='1', numero_garajes='2', numero_habitaciones='1', pies2='4274', precio='199900', sup_sotano='1241', tipo_revestimiento=''),\n",
       " Row(Zona='RM', año_construccion='1923', año_venta='2007', calidad_calefaccion='Ex', indicador='2237', numero_cocina='1', numero_garajes='', numero_habitaciones='3', pies2='9060', precio='150909', sup_sotano='859', tipo_revestimiento='None'),\n",
       " Row(Zona='RL', año_construccion='2006', año_venta='2007', calidad_calefaccion='Ex', indicador='2261', numero_cocina='1', numero_garajes='2', numero_habitaciones='2', pies2='8298', precio='267300', sup_sotano='1546', tipo_revestimiento=''),\n",
       " Row(Zona='RL', año_construccion='2006', año_venta='2006', calidad_calefaccion='Ex', indicador='2383', numero_cocina='1', numero_garajes='3', numero_habitaciones='2', pies2='13891', precio='465000', sup_sotano='2076', tipo_revestimiento=''),\n",
       " Row(Zona='RL', año_construccion='2002', año_venta='2006', calidad_calefaccion='Ex', indicador='2824', numero_cocina='1', numero_garajes='0', numero_habitaciones='2', pies2='8050', precio='117250', sup_sotano='914', tipo_revestimiento=''),\n",
       " Row(Zona='RL', año_construccion='2002', año_venta='2008', calidad_calefaccion='Ex', indicador='1455', numero_cocina='1', numero_garajes='2', numero_habitaciones='3', pies2='9473', precio='237000', sup_sotano='1128', tipo_revestimiento=''),\n",
       " Row(Zona='RL', año_construccion='2003', año_venta='2007', calidad_calefaccion='Ex', indicador='1752', numero_cocina='1', numero_garajes='2', numero_habitaciones='3', pies2='11950', precio='165500', sup_sotano='384', tipo_revestimiento=''),\n",
       " Row(Zona='RL', año_construccion='2005', año_venta='2006', calidad_calefaccion='Ex', indicador='2393', numero_cocina='1', numero_garajes='2', numero_habitaciones='3', pies2='12867', precio='344133', sup_sotano='1209', tipo_revestimiento=''),\n",
       " Row(Zona='RL', año_construccion='2006', año_venta='2006', calidad_calefaccion='Ex', indicador='2456', numero_cocina='1', numero_garajes='3', numero_habitaciones='2', pies2='15218', precio='336820', sup_sotano='1670', tipo_revestimiento='')]"
      ]
     },
     "execution_count": 11,
     "metadata": {
      "tags": []
     },
     "output_type": "execute_result"
    }
   ],
   "source": [
    "datos_buenos.filter(lambda x: (x[0] == '' or x[1] == '' or x[2] == '' or x[3] == '' or x[4] == '' or x[5] == '' or x[6] == '' or x[7] == '' or x[8] == '' or x[9] == '' or x[10] == '' or x[11] == '')).collect()"
   ]
  },
  {
   "cell_type": "markdown",
   "metadata": {
    "id": "z00srQ6VAcR8"
   },
   "source": [
    "Hay tan solo 24 columnas con valores nulos (''), de las cuales 23 pertenecen al tipo de revestimiento y solo 1 al número de garajes."
   ]
  },
  {
   "cell_type": "markdown",
   "metadata": {
    "id": "hXr08ChYVnFg"
   },
   "source": [
    "`Tipo de revestimiento` tiene muchos NA, por lo que, en un principio, decidí imputarlos por 'None' a todos aquellos nulos (pues es lo mismo que no tener información). Sin embargo, como en la cuestión que trata sobre esa columna solo nos preguntan sobre los revestimientos de ladrillo y piedra, no será necesario imputar aquellos '' por 'None'. Será posteriormente el filtro para escoger las de ladrillo y piedra el que solo nos va a tomar ese tipo de viviendas, por lo que es indiferente si dejamos el '' o si cambiamos por 'None', pues el filtro ignorará esas posiciones de cualquiera de las maneras.\n",
    "\n",
    "El problema es número de garajes, que sí tiene nulos. Los imputaré por cero considerando que si no hay información es porque no hay garaje."
   ]
  },
  {
   "cell_type": "markdown",
   "metadata": {
    "id": "E-T-hYzX-5XP"
   },
   "source": [
    "Más allá de esto, en la columna de Zona hay varios datos que vienen mal codificados. Esto es: algunos de los nombres de zona residencial baja densidad (\"RL\") vienen codificados como \"Rl\" o \"rL\", por lo que debemos cambiarlos para que coja esos valores como \"RL\" en el filtro. \n",
    "\n",
    "Para ello creo esta función:"
   ]
  },
  {
   "cell_type": "code",
   "execution_count": 12,
   "metadata": {
    "id": "72-ou26gt7LN"
   },
   "outputs": [],
   "source": [
    "def mayusculas(x):\n",
    "\n",
    "  if x == 'Rl':\n",
    "    x = 'RL'\n",
    "\n",
    "  elif x == \"rL\":\n",
    "    x = 'RL'\n",
    "  \n",
    "  elif x == 'RL':\n",
    "    x\n",
    "\n",
    "  return x"
   ]
  },
  {
   "cell_type": "markdown",
   "metadata": {
    "id": "wmRz-rgZ_L7n"
   },
   "source": [
    "La función que elimina los NA que hemos encontrado es la siguiente:"
   ]
  },
  {
   "cell_type": "code",
   "execution_count": 13,
   "metadata": {
    "id": "pUc5EENqKuOq"
   },
   "outputs": [],
   "source": [
    "def remove_nas(x):\n",
    "\n",
    "  if x == '':\n",
    "\n",
    "    return 0\n",
    "\n",
    "  else:\n",
    "\n",
    "    return int(x)"
   ]
  },
  {
   "cell_type": "markdown",
   "metadata": {
    "id": "dt-NWF4G_P8C"
   },
   "source": [
    "Aplicamos las funciones sobre aquellas variables que sabemos que contienen nulos (la de remove_nas) y sobre la columna de zona aplicamos la de transformar a RL aquellos rL y Rl.\n",
    "\n",
    "Al mismo tiempo, transformaré aquellas variables que sean numéricas en tipo int o float (dependiendo de si son continuas o discretas) para trabajar más cómodamente con ellas:"
   ]
  },
  {
   "cell_type": "code",
   "execution_count": 14,
   "metadata": {
    "id": "9e-VtWbmt-3o"
   },
   "outputs": [],
   "source": [
    "datos_buenos = datos_buenos.map(lambda line: (mayusculas(line[0]), int(line[1]), int(line[2]), line[3], int(line[4]), int(line[5]), remove_nas(line[6]), int(line[7]), float(line[8]), float(line[9]), remove_nas(line[10]), line[11]))"
   ]
  },
  {
   "cell_type": "markdown",
   "metadata": {
    "id": "9-7ORT5F_p5B"
   },
   "source": [
    "Echamos un vistazo a lo que tenemos ahora:"
   ]
  },
  {
   "cell_type": "code",
   "execution_count": 15,
   "metadata": {
    "colab": {
     "base_uri": "https://localhost:8080/"
    },
    "id": "G1WXL6WyahfB",
    "outputId": "cea46fcb-86e0-48b4-db3a-771c5ff61ecd"
   },
   "outputs": [
    {
     "data": {
      "text/plain": [
       "[('RL', 1968, 2010, 'Ex', 4, 1, 2, 3, 11160.0, 244000.0, 2110, 'None'),\n",
       " ('RL', 1992, 2010, 'Ex', 8, 1, 2, 2, 5005.0, 191500.0, 1280, 'None'),\n",
       " ('RL', 1995, 2010, 'Ex', 9, 1, 2, 2, 5389.0, 236500.0, 1595, 'None')]"
      ]
     },
     "execution_count": 15,
     "metadata": {
      "tags": []
     },
     "output_type": "execute_result"
    }
   ],
   "source": [
    "datos_buenos.take(3)"
   ]
  },
  {
   "cell_type": "markdown",
   "metadata": {
    "id": "zig_wh3_wRQl"
   },
   "source": [
    "Filtramos las viviendas de barrios residenciales altos, medios y bajos. Esto es:"
   ]
  },
  {
   "cell_type": "code",
   "execution_count": 16,
   "metadata": {
    "id": "7y9YVaMGbkfw"
   },
   "outputs": [],
   "source": [
    "datos_buenos_2 = datos_buenos.filter(lambda x: (x[0] == \"RL\" or x[0] == \"RH\" or x[0] == \"RM\"))"
   ]
  },
  {
   "cell_type": "markdown",
   "metadata": {
    "id": "Mu56zQ51eCwN"
   },
   "source": [
    "##__2.- Cuántas viviendas distintas encontramos en el dataset? ¿Se repite alguna? ¿Tiene sentido que haya duplicadas? ¿Qué podemos hacer con las duplicadas?__"
   ]
  },
  {
   "cell_type": "markdown",
   "metadata": {
    "id": "av5JXN6CB-aD"
   },
   "source": [
    "Para saber el número de viviendas distintas presentes en el dataset, lo que debemos utilizar es la función _distinct_, que evalúa aquellos resultados que (como su nombre indica) son diferentes unos de otros. Si tras aplicar esta función aplicamos un _count_ obtendremos de vuelta el número de viviendas distintas presentes en el dataset. La variable que he utilizado para contabilizar si había o no repetidas es el indicador de las casas. \n",
    "\n",
    "De esta forma:"
   ]
  },
  {
   "cell_type": "code",
   "execution_count": 17,
   "metadata": {
    "colab": {
     "base_uri": "https://localhost:8080/"
    },
    "id": "hlleUYt8w4LT",
    "outputId": "34ab85f6-5fd5-4d9a-9bbb-47d77168ad40"
   },
   "outputs": [
    {
     "data": {
      "text/plain": [
       "2762"
      ]
     },
     "execution_count": 17,
     "metadata": {
      "tags": []
     },
     "output_type": "execute_result"
    }
   ],
   "source": [
    "datos_buenos_2.map(lambda x: x[4]).distinct().count()"
   ]
  },
  {
   "cell_type": "markdown",
   "metadata": {
    "id": "OzJqbM-MxB16"
   },
   "source": [
    "Encontramos 2762 viviendas diferentes en el dataset. Para ver si alguna de ellas está repetida, lo que haré será ejecutar una resta del número de viviendas diferentes sobre el número de viviendas total, de manera que obtendré el número de ellas que aparecen duplicadas:"
   ]
  },
  {
   "cell_type": "code",
   "execution_count": 18,
   "metadata": {
    "colab": {
     "base_uri": "https://localhost:8080/"
    },
    "id": "FXpGCSuyeEi_",
    "outputId": "625cfab3-72e8-434e-f898-680436faefe1"
   },
   "outputs": [
    {
     "name": "stdout",
     "output_type": "stream",
     "text": [
      "En el dataset de viviendas hay un total de: 6 viviendas repetidas\n"
     ]
    }
   ],
   "source": [
    "repetidos = datos_buenos_2.map(lambda x: (x[4]))\n",
    "print(\"En el dataset de viviendas hay un total de:\", \n",
    "      datos_buenos_2.count() - repetidos.distinct().count(), \"viviendas repetidas\")"
   ]
  },
  {
   "cell_type": "markdown",
   "metadata": {
    "id": "1h4holQ2Cqx7"
   },
   "source": [
    "Elimino estas observaciones duplicadas pues no van a aportar nada al trabajo. Lejos de ello, van a contribuir dos veces con los mismos resultados sobre los estudios llevados a cabo. Usando, de nuevo, el comando _distinct_ recupero los datos que no están duplicados. "
   ]
  },
  {
   "cell_type": "code",
   "execution_count": 21,
   "metadata": {
    "id": "hO-iGPPsBWtN"
   },
   "outputs": [],
   "source": [
    "# Recupero el nombre de datos para seguir trabajando más cómodamente:\n",
    "\n",
    "datos = datos_buenos_2.distinct()"
   ]
  },
  {
   "cell_type": "markdown",
   "metadata": {
    "id": "Dts6EONKC7jC"
   },
   "source": [
    "Compruebo que está bien hecho:"
   ]
  },
  {
   "cell_type": "code",
   "execution_count": 20,
   "metadata": {
    "colab": {
     "base_uri": "https://localhost:8080/"
    },
    "id": "KUJEAbc-BwQo",
    "outputId": "641627eb-f796-4acd-9d5f-aababe52e77e"
   },
   "outputs": [
    {
     "name": "stdout",
     "output_type": "stream",
     "text": [
      "En el dataset de viviendas hay un total de: 0 viviendas repetidas\n"
     ]
    }
   ],
   "source": [
    "repetidos = datos.map(lambda x: (x[4]))\n",
    "print(\"En el dataset de viviendas hay un total de:\", \n",
    "      datos.count() - repetidos.distinct().count(), \"viviendas repetidas\")"
   ]
  },
  {
   "cell_type": "markdown",
   "metadata": {
    "id": "xkoSMRcIY3Ar"
   },
   "source": [
    "## __3.- ¿Podrías decirme el total de inmuebles y el precio medio (Sale Price) de cada zona (MS Zoning)?__"
   ]
  },
  {
   "cell_type": "markdown",
   "metadata": {
    "id": "dJs0FPwyC-bO"
   },
   "source": [
    "El número total de inmuebles lo sabemos de la cuestión anterior: un total de 2762 viviendas diferentes. Para saber el número de ellos que hay por cada zona de viviendas, lo que haré será tomar la primera posición de mi RDD (que es la zona de la vivienda) y hacer un agrupamiento a través de la cláusula _groupByValue_, que agrupa los resultados de objetos tipo clave - valor, devolviendo el número de ellos que hay de cada clave. De esta manera obtuve:"
   ]
  },
  {
   "cell_type": "code",
   "execution_count": 22,
   "metadata": {
    "colab": {
     "base_uri": "https://localhost:8080/"
    },
    "id": "M_IUn5ZjDENk",
    "outputId": "220a2c03-c291-48b6-b11b-9478fd732b28"
   },
   "outputs": [
    {
     "data": {
      "text/plain": [
       "defaultdict(int, {'RH': 27, 'RL': 2273, 'RM': 462})"
      ]
     },
     "execution_count": 22,
     "metadata": {
      "tags": []
     },
     "output_type": "execute_result"
    }
   ],
   "source": [
    "datos.map(lambda x: (x[0])).countByValue()"
   ]
  },
  {
   "cell_type": "markdown",
   "metadata": {
    "id": "NJ5v-8vqlhgf"
   },
   "source": [
    "Como sabíamos desde un inicio (al observar la carga de los datos) la clase residencial más numerosa es la de \"RL\", después de la de \"RM\" y, por último, de las que menor número encontramos es \"RH\"."
   ]
  },
  {
   "cell_type": "markdown",
   "metadata": {
    "id": "kG032T1ODyT3"
   },
   "source": [
    "Nos preguntan también sobre el precio medio de las viviendas dentro de cada zona. Para ello, lo que haré será generarme un RDD con una tupla que contenga: (zona, precio), de manera que después, empleando un _combineByKey_, agrupar los resultados de precios con respecto a cada zona y calcular la media para cada una de ellas de forma agrupada. Esto es: "
   ]
  },
  {
   "cell_type": "code",
   "execution_count": 55,
   "metadata": {
    "colab": {
     "base_uri": "https://localhost:8080/"
    },
    "id": "ds_Qtqrybz2t",
    "outputId": "dfafca16-11a4-4128-ac36-e577e6bef424"
   },
   "outputs": [
    {
     "data": {
      "text/plain": [
       "[('RH', 136419.78), ('RL', 191283.25), ('RM', 126781.39)]"
      ]
     },
     "execution_count": 55,
     "metadata": {
      "tags": []
     },
     "output_type": "execute_result"
    }
   ],
   "source": [
    "precio_medio_zona = datos.map(lambda x: (x[0], float(x[9]))).\\\n",
    "                          combineByKey(\n",
    "                                      (lambda x: (x, 1)), \n",
    "                                      (lambda x1, y1: (x1[0] + y1, x1[1] + 1)), \n",
    "                                      (lambda x2, y2: (x2[0] + y2[0], x2[1] + y2[1])) \n",
    "                                      ).\\\n",
    "                          map(lambda x: (x[0], round(x[1][0]/x[1][1], 2))).\\\n",
    "                          sortBy(lambda y: y[0]).collect()\n",
    "precio_medio_zona"
   ]
  },
  {
   "cell_type": "markdown",
   "metadata": {
    "id": "DZXDP12-l6pl"
   },
   "source": [
    "Las viviendas ubicadas en zonas residenciales de baja densidad (\"RL\") son las más caras (en media), seguidas por laas de alta densidad, que son ligeramente más caras que las de zona residencial de densidad media."
   ]
  },
  {
   "cell_type": "markdown",
   "metadata": {
    "id": "AJ-wcwtCY3Ar"
   },
   "source": [
    "## __4.- Media de Total Bsmt SF por cada década de construcción calculada a partir de Year Built.__"
   ]
  },
  {
   "cell_type": "markdown",
   "metadata": {
    "id": "2hBlJVnPI0Bv"
   },
   "source": [
    "Nos piden que calculemos la superficie de los sótanos de las viviendas para las diferentes décadas de construcción de las mismas. Como lo que tenemos son años de construcción, debemos crear una función que calcule las décadas en las que se incluye cada fecha. En mi caso, consideraré que los años acabados en 0 pertenecen a la década anterior. Es decir, la década de 1880-1890 incluye el 1890 pero no el 1880, sino del 81 en adelante. Es necesario hacerlo tan explícito porque hay dos siglos y debemos diferenciar los 10 y 20 para los 1900 y los 2000, así como los 70, 80, 90 para 1800 y 1900.\n",
    "\n",
    "De esta manera:"
   ]
  },
  {
   "cell_type": "code",
   "execution_count": 53,
   "metadata": {
    "id": "0GSQ3PqpuNVI"
   },
   "outputs": [],
   "source": [
    "def decadas (x):\n",
    "  if x <= 1880:\n",
    "    return (\"1870-1880\")\n",
    "  elif x <= 1890:\n",
    "    return (\"1880-1890\")\n",
    "  elif x <= 1900 :\n",
    "    return (\"1890-1900\")\n",
    "  elif x <= 1910 :\n",
    "    return (\"1900-1910\")\n",
    "  elif x <= 1920 :\n",
    "    return (\"1910-1920\")\n",
    "  elif x <= 1930 :\n",
    "    return (\"1920-1930\")\n",
    "  elif x <= 1940 :\n",
    "    return (\"1930-1940\")\n",
    "  elif x <= 1950 :\n",
    "    return (\"1940-1950\")\n",
    "  elif x <= 1960 :\n",
    "    return (\"1950-1960\")\n",
    "  elif x <= 1970 :\n",
    "    return (\"1960-1970\")\n",
    "  elif x <= 1980 :\n",
    "    return (\"1970-1980\")\n",
    "  elif x <= 1990 :\n",
    "    return (\"1980-1990\")\n",
    "  elif x <= 2000 :\n",
    "    return (\"1990-2000\")\n",
    "  else:\n",
    "    return (\"2000-2010\")"
   ]
  },
  {
   "cell_type": "markdown",
   "metadata": {
    "id": "9-323C-BsK--"
   },
   "source": [
    "Quizá una forma más cómoda de implementar las décadas hubiese sido a través de esta función, que toma los 3 primeros dígitos de los años (recordemos que al haber 3 siglos involucrados no vale solo con las dos últimas pues hay que diferenciar 1880 de 1980 y 1910 de 2010, por ejemplo) y les añade un 0 al final para obtener la década:"
   ]
  },
  {
   "cell_type": "code",
   "execution_count": 50,
   "metadata": {
    "id": "vgGIqaPCsSAT"
   },
   "outputs": [],
   "source": [
    "def decadas_2(x):\n",
    "\n",
    "  # El año viene codificado como 19XX, 18XX, 20XX, po lo que nos interesan los 3 últimos dígitos\n",
    "\n",
    "  return (x[:3] + \"0 's\")"
   ]
  },
  {
   "cell_type": "markdown",
   "metadata": {
    "id": "665tSX1PuNgU"
   },
   "source": [
    "No obstante, esta función da problemas a la hora de trabajar con números enteros, por lo que como una de las primeras acciones de la práctica fue cambiar a entero el año (entre otros), aplicaré la primera función que había definido, pues es más cómoda e intuitiva de interpretar."
   ]
  },
  {
   "cell_type": "markdown",
   "metadata": {
    "id": "W6v_XW_3JlYX"
   },
   "source": [
    "Aplico la función sobre la columna de años y creo un RDD que contenga una tupla consistente en: (década, superficie del sótano) para cada vivienda. \n",
    "\n",
    "Una vez generado este elemento, lo que haré será, como en el apartado anterior, un _combineByKey_ que me devuelva la suma de los valores de las superficies así como el número de veces que aparecen viviendas por cada década en el RDD original. Con ello, simplemente tengo que dividir para obtener la media por cada década. \n",
    "\n",
    "Esto es:"
   ]
  },
  {
   "cell_type": "code",
   "execution_count": 54,
   "metadata": {
    "colab": {
     "base_uri": "https://localhost:8080/"
    },
    "id": "kqIFvRfyhfR2",
    "outputId": "497eac28-aecd-42a4-d4f6-557583ff9b02"
   },
   "outputs": [
    {
     "data": {
      "text/plain": [
       "[('1870-1880', 829.62),\n",
       " ('1880-1890', 803.8),\n",
       " ('1890-1900', 763.16),\n",
       " ('1900-1910', 726.43),\n",
       " ('1910-1920', 807.33),\n",
       " ('1920-1930', 832.87),\n",
       " ('1930-1940', 779.99),\n",
       " ('1940-1950', 709.59),\n",
       " ('1950-1960', 1010.12),\n",
       " ('1960-1970', 1052.76),\n",
       " ('1970-1980', 958.13),\n",
       " ('1980-1990', 1156.46),\n",
       " ('1990-2000', 1130.44),\n",
       " ('2000-2010', 1361.67)]"
      ]
     },
     "execution_count": 54,
     "metadata": {
      "tags": []
     },
     "output_type": "execute_result"
    }
   ],
   "source": [
    "por_decadas = datos.map(lambda x: (decadas(int(x[1])), float(x[10])))\n",
    "\n",
    "media_por_decada = por_decadas.combineByKey(\n",
    "                                            (lambda x: (x, 1)), \n",
    "                                            (lambda x1, y1: (x1[0] + y1, x1[1] + 1)), \n",
    "                                            (lambda x2, y2: (x2[0] + y2[0], x2[1] + y2[1])) \n",
    "                                            ).\\\n",
    "                                            map(lambda x: (x[0], round(x[1][0]/x[1][1], 2))).\\\n",
    "                                            sortBy(lambda y: y[0]).collect()\n",
    "\n",
    "media_por_decada"
   ]
  },
  {
   "cell_type": "markdown",
   "metadata": {
    "id": "Hz8QC_hmKTTF"
   },
   "source": [
    "Como vemos, la década del 2000 al 2010 la superficie de los sótanos es claramente mayor, en media, que en el resto de décadas. El menor valor lo obtenemos para dicha década un siglo antes (1900-1910). "
   ]
  },
  {
   "cell_type": "markdown",
   "metadata": {
    "id": "i3ZKrKU5hbCz"
   },
   "source": [
    "## __5.- ¿Cuál es la década de construcción con viviendas mejor acondicionadas para el frío (Heating QC)?__"
   ]
  },
  {
   "cell_type": "markdown",
   "metadata": {
    "id": "oEa_ybdjKoj5"
   },
   "source": [
    "Para responder a esta pregunta, se me ocurrieron 3 formas de aborarlo:\n",
    "\n",
    "- La primera fue considerar únicamente aquellas viviendas con cualidades de calefacción \"Ex\" o \"Gd\" (es decir, excelente o buena), de manera que al contar el número de veces que aparecen estos valores por décadas, tendremos una estimación de en qué décadas se construyeron más viviendas con un mejor acondicionamiento. Para esto simplemente hay que filtrar, generar un RDD con una tupla clave - valor como: (década, viviendas con calefaccion excelente o buena) e implementar un _countByKey_ que nos cuente el número de veces que aparecen viviendas de ese tipo por década.\n",
    "\n",
    "- La segunda fue hacer un _countByValue_ de toda la columna con información sobre la calefacción para ver reflejadas el número de veces que aparece cierto tipo de calefacción. Lo bueno que tiene esta opción es que refleja todos los tipos de calefacción, pero el inconveniente es que contiene demasiada información como para ser cómodo su uso. \n",
    "\n",
    "- La tercera fue filtrar por décadas, creando un RDD que contuviese (década, tipo de calefacción) y hacer un _countByValue_ que devuelva el número de casos de cada tipo de calefacción por cada década por separado. Lo bueno que tiene es que es bastante intuitivo y los resultados son cómodos de leer. El inconveniente, es que es un poco laborioso de generar para todas las décadas.\n",
    "\n",
    "En cualquier caso, usando la que use, los resultados generados son los mismos."
   ]
  },
  {
   "cell_type": "markdown",
   "metadata": {
    "id": "dqOFwTYUMm8T"
   },
   "source": [
    "+ Opción 1: filtro excelentes y buenas:"
   ]
  },
  {
   "cell_type": "code",
   "execution_count": null,
   "metadata": {
    "colab": {
     "base_uri": "https://localhost:8080/"
    },
    "id": "Zmv0Fc8V3h45",
    "outputId": "915b2938-4fdc-41f2-ae8d-a1dc1cfb404d"
   },
   "outputs": [
    {
     "data": {
      "text/plain": [
       "defaultdict(int,\n",
       "            {'1870-1880': 3,\n",
       "             '1880-1890': 8,\n",
       "             '1890-1900': 20,\n",
       "             '1900-1910': 30,\n",
       "             '1910-1920': 72,\n",
       "             '1920-1930': 79,\n",
       "             '1930-1940': 73,\n",
       "             '1940-1950': 77,\n",
       "             '1950-1960': 170,\n",
       "             '1960-1970': 166,\n",
       "             '1970-1980': 99,\n",
       "             '1980-1990': 72,\n",
       "             '1990-2000': 324,\n",
       "             '2000-2010': 629})"
      ]
     },
     "execution_count": 83,
     "metadata": {
      "tags": []
     },
     "output_type": "execute_result"
    }
   ],
   "source": [
    "calefaccion_mejor = datos.filter(lambda x: (x[3] == 'Ex' or x[3] == 'Gd')).\\\n",
    "                          map(lambda x: (decadas(int(x[1])), x[3])).countByKey()\n",
    "\n",
    "calefaccion_mejor"
   ]
  },
  {
   "cell_type": "markdown",
   "metadata": {
    "id": "6gHAIFC-6j5I"
   },
   "source": [
    "Como cabía esperar, las viviendas mejor preparadas para el frío son aquellas construidas entre 2000 y 2010, pues son casas más modernas, con nuevos materiales de revestimiento y nuevos tipos de calefacción incorporados a las mismas. \n",
    "\n",
    "Las que menos preparadas estarían serían las de antes de 1900, pero no son resultados muy objetivos, puesto que el número de viviendas de esas décadas en comparación con el número de ellas de las décadas de 1980 en adelante que aparecen en el dataset es mucho menor."
   ]
  },
  {
   "cell_type": "markdown",
   "metadata": {
    "id": "fjV0yegQ7CU9"
   },
   "source": [
    "Si, por el contrario, calculamos las viviendas peor acondicionadas para la calefacción, obtendremos que en las décadas de los 40, los 50 y los 70 se hicieron varias casas con un acondicionamiento pobre. "
   ]
  },
  {
   "cell_type": "code",
   "execution_count": null,
   "metadata": {
    "colab": {
     "base_uri": "https://localhost:8080/"
    },
    "id": "n1g-cfev5k61",
    "outputId": "7ff1544f-ab55-4d11-bf38-1505017735d9"
   },
   "outputs": [
    {
     "data": {
      "text/plain": [
       "defaultdict(int,\n",
       "            {'1870-1880': 1,\n",
       "             '1890-1900': 1,\n",
       "             '1900-1910': 4,\n",
       "             '1910-1920': 9,\n",
       "             '1920-1930': 18,\n",
       "             '1930-1940': 5,\n",
       "             '1940-1950': 14,\n",
       "             '1950-1960': 17,\n",
       "             '1960-1970': 10,\n",
       "             '1970-1980': 11})"
      ]
     },
     "execution_count": 87,
     "metadata": {
      "tags": []
     },
     "output_type": "execute_result"
    }
   ],
   "source": [
    "calefaccion_peor = datos.filter(lambda x: (x[3] == 'Fa' or x[3] == 'Po')).\\\n",
    "                         map(lambda x: (decadas(int(x[1])), x[3])).countByKey()\n",
    "\n",
    "calefaccion_peor"
   ]
  },
  {
   "cell_type": "markdown",
   "metadata": {
    "id": "fz8sYiEF6UXw"
   },
   "source": [
    "+ Opción 2: todos juntos \"a capón\""
   ]
  },
  {
   "cell_type": "code",
   "execution_count": null,
   "metadata": {
    "colab": {
     "base_uri": "https://localhost:8080/"
    },
    "id": "DjargkFttwd-",
    "outputId": "ea748948-6c60-4fb6-8a8b-3c553fac5cd9"
   },
   "outputs": [
    {
     "data": {
      "text/plain": [
       "defaultdict(int,\n",
       "            {('1870-1880', 'Ex'): 2,\n",
       "             ('1870-1880', 'Fa'): 1,\n",
       "             ('1870-1880', 'Gd'): 1,\n",
       "             ('1870-1880', 'TA'): 4,\n",
       "             ('1880-1890', 'Ex'): 2,\n",
       "             ('1880-1890', 'Gd'): 6,\n",
       "             ('1880-1890', 'TA'): 2,\n",
       "             ('1890-1900', 'Ex'): 11,\n",
       "             ('1890-1900', 'Fa'): 1,\n",
       "             ('1890-1900', 'Gd'): 9,\n",
       "             ('1890-1900', 'TA'): 10,\n",
       "             ('1900-1910', 'Ex'): 13,\n",
       "             ('1900-1910', 'Fa'): 4,\n",
       "             ('1900-1910', 'Gd'): 17,\n",
       "             ('1900-1910', 'TA'): 15,\n",
       "             ('1910-1920', 'Ex'): 43,\n",
       "             ('1910-1920', 'Fa'): 9,\n",
       "             ('1910-1920', 'Gd'): 29,\n",
       "             ('1910-1920', 'TA'): 35,\n",
       "             ('1920-1930', 'Ex'): 47,\n",
       "             ('1920-1930', 'Fa'): 17,\n",
       "             ('1920-1930', 'Gd'): 32,\n",
       "             ('1920-1930', 'Po'): 1,\n",
       "             ('1920-1930', 'TA'): 66,\n",
       "             ('1930-1940', 'Ex'): 46,\n",
       "             ('1930-1940', 'Fa'): 5,\n",
       "             ('1930-1940', 'Gd'): 27,\n",
       "             ('1930-1940', 'TA'): 40,\n",
       "             ('1940-1950', 'Ex'): 48,\n",
       "             ('1940-1950', 'Fa'): 13,\n",
       "             ('1940-1950', 'Gd'): 29,\n",
       "             ('1940-1950', 'Po'): 1,\n",
       "             ('1940-1950', 'TA'): 60,\n",
       "             ('1950-1960', 'Ex'): 99,\n",
       "             ('1950-1960', 'Fa'): 17,\n",
       "             ('1950-1960', 'Gd'): 71,\n",
       "             ('1950-1960', 'TA'): 147,\n",
       "             ('1960-1970', 'Ex'): 90,\n",
       "             ('1960-1970', 'Fa'): 10,\n",
       "             ('1960-1970', 'Gd'): 76,\n",
       "             ('1960-1970', 'TA'): 186,\n",
       "             ('1970-1980', 'Ex'): 59,\n",
       "             ('1970-1980', 'Fa'): 11,\n",
       "             ('1970-1980', 'Gd'): 40,\n",
       "             ('1970-1980', 'TA'): 239,\n",
       "             ('1980-1990', 'Ex'): 32,\n",
       "             ('1980-1990', 'Gd'): 40,\n",
       "             ('1980-1990', 'TA'): 40,\n",
       "             ('1990-2000', 'Ex'): 262,\n",
       "             ('1990-2000', 'Gd'): 62,\n",
       "             ('1990-2000', 'TA'): 6,\n",
       "             ('2000-2010', 'Ex'): 604,\n",
       "             ('2000-2010', 'Gd'): 25})"
      ]
     },
     "execution_count": 88,
     "metadata": {
      "tags": []
     },
     "output_type": "execute_result"
    }
   ],
   "source": [
    "calefaccion = datos.map(lambda x: (decadas(int(x[1])), x[3]))\n",
    "\n",
    "calefaccion.countByValue()"
   ]
  },
  {
   "cell_type": "markdown",
   "metadata": {
    "id": "OXqThdd5NvmY"
   },
   "source": [
    "De nuevo obtenemos que las que mejor preparadas están son las viviendas de las décadas del 2000 en adelante."
   ]
  },
  {
   "cell_type": "markdown",
   "metadata": {
    "id": "xVg_KS9eUqIb"
   },
   "source": [
    "+ Opción 3: filtrando por décadas"
   ]
  },
  {
   "cell_type": "code",
   "execution_count": null,
   "metadata": {
    "colab": {
     "base_uri": "https://localhost:8080/"
    },
    "id": "OIZYFcH3QvsG",
    "outputId": "7bd7508b-a773-4be3-aba1-5cb99e2f69b1"
   },
   "outputs": [
    {
     "name": "stdout",
     "output_type": "stream",
     "text": [
      "En la década de los 2000, la calidad de calefacción era: defaultdict(<class 'int'>, {'Ex': 604, 'Gd': 25})\n",
      "En la década de los 1990, la calidad de calefacción era: defaultdict(<class 'int'>, {'Ex': 262, 'Gd': 62, 'TA': 6})\n",
      "En la década de los 1980, la calidad de calefacción era: defaultdict(<class 'int'>, {'Gd': 40, 'TA': 40, 'Ex': 32})\n",
      "En la década de los 1970, la calidad de calefacción era: defaultdict(<class 'int'>, {'TA': 239, 'Ex': 59, 'Fa': 11, 'Gd': 40})\n",
      "En la década de los 1960, la calidad de calefacción era: defaultdict(<class 'int'>, {'Ex': 90, 'TA': 186, 'Fa': 10, 'Gd': 76})\n",
      "En la década de los 1950, la calidad de calefacción era: defaultdict(<class 'int'>, {'Ex': 99, 'Fa': 17, 'TA': 147, 'Gd': 71})\n",
      "En la década de los 1940, la calidad de calefacción era: defaultdict(<class 'int'>, {'Ex': 48, 'TA': 60, 'Fa': 13, 'Gd': 29, 'Po': 1})\n",
      "En la década de los 1930, la calidad de calefacción era: defaultdict(<class 'int'>, {'Ex': 46, 'Gd': 27, 'TA': 40, 'Fa': 5})\n",
      "En la década de los 1920, la calidad de calefacción era: defaultdict(<class 'int'>, {'TA': 66, 'Gd': 32, 'Fa': 17, 'Ex': 47, 'Po': 1})\n",
      "En la década de los 1910, la calidad de calefacción era: defaultdict(<class 'int'>, {'TA': 35, 'Ex': 43, 'Gd': 29, 'Fa': 9})\n",
      "En la década de los 1900, la calidad de calefacción era: defaultdict(<class 'int'>, {'Gd': 17, 'Fa': 4, 'Ex': 13, 'TA': 15})\n",
      "En la década de los 1890, la calidad de calefacción era: defaultdict(<class 'int'>, {'TA': 10, 'Ex': 11, 'Gd': 9, 'Fa': 1})\n",
      "En la década de los 1880, la calidad de calefacción era: defaultdict(<class 'int'>, {'Gd': 6, 'TA': 2, 'Ex': 2})\n",
      "En la década de los 1870, la calidad de calefacción era: defaultdict(<class 'int'>, {'Gd': 1, 'Fa': 1, 'TA': 4, 'Ex': 2})\n"
     ]
    }
   ],
   "source": [
    "print(\"En la década de los 2000, la calidad de calefacción era:\", datos.filter(lambda x: decadas(x[1]) == '2000-2010').map(lambda x: (x[3])).countByValue())\n",
    "print(\"En la década de los 1990, la calidad de calefacción era:\", datos.filter(lambda x: decadas(x[1]) == '1990-2000').map(lambda x: (x[3])).countByValue())\n",
    "print(\"En la década de los 1980, la calidad de calefacción era:\", datos.filter(lambda x: decadas(x[1]) == '1980-1990').map(lambda x: (x[3])).countByValue())\n",
    "print(\"En la década de los 1970, la calidad de calefacción era:\", datos.filter(lambda x: decadas(x[1]) == '1970-1980').map(lambda x: (x[3])).countByValue())\n",
    "print(\"En la década de los 1960, la calidad de calefacción era:\", datos.filter(lambda x: decadas(x[1]) == '1960-1970').map(lambda x: (x[3])).countByValue())\n",
    "print(\"En la década de los 1950, la calidad de calefacción era:\", datos.filter(lambda x: decadas(x[1]) == '1950-1960').map(lambda x: (x[3])).countByValue())\n",
    "print(\"En la década de los 1940, la calidad de calefacción era:\", datos.filter(lambda x: decadas(x[1]) == '1940-1950').map(lambda x: (x[3])).countByValue())\n",
    "print(\"En la década de los 1930, la calidad de calefacción era:\", datos.filter(lambda x: decadas(x[1]) == '1930-1940').map(lambda x: (x[3])).countByValue())\n",
    "print(\"En la década de los 1920, la calidad de calefacción era:\", datos.filter(lambda x: decadas(x[1]) == '1920-1930').map(lambda x: (x[3])).countByValue())\n",
    "print(\"En la década de los 1910, la calidad de calefacción era:\", datos.filter(lambda x: decadas(x[1]) == '1910-1920').map(lambda x: (x[3])).countByValue())\n",
    "print(\"En la década de los 1900, la calidad de calefacción era:\", datos.filter(lambda x: decadas(x[1]) == '1900-1910').map(lambda x: (x[3])).countByValue())\n",
    "print(\"En la década de los 1890, la calidad de calefacción era:\", datos.filter(lambda x: decadas(x[1]) == '1890-1900').map(lambda x: (x[3])).countByValue())\n",
    "print(\"En la década de los 1880, la calidad de calefacción era:\", datos.filter(lambda x: decadas(x[1]) == '1880-1890').map(lambda x: (x[3])).countByValue())\n",
    "print(\"En la década de los 1870, la calidad de calefacción era:\", datos.filter(lambda x: decadas(x[1]) == '1870-1880').map(lambda x: (x[3])).countByValue())"
   ]
  },
  {
   "cell_type": "markdown",
   "metadata": {
    "id": "UBqcF7GWMxHU"
   },
   "source": [
    "Siempre es mejor una imagen para aclarar las cosas, por lo que llevaré a cabo una representación del estado de la calefacción de las viviendas en función de las diferentes décadas de construcción de las mismas. \n",
    "\n",
    "Efectivamente corroboramos que en las dos últimas décadas aumenta exponencialmente el número de casas con acondicionamiento excelente de la calefacción."
   ]
  },
  {
   "cell_type": "code",
   "execution_count": null,
   "metadata": {
    "colab": {
     "base_uri": "https://localhost:8080/",
     "height": 601
    },
    "id": "XfJQioXkMxHU",
    "outputId": "16deae1d-b3eb-4610-e126-3ced53dc81ab"
   },
   "outputs": [
    {
     "name": "stderr",
     "output_type": "stream",
     "text": [
      "/usr/local/lib/python3.6/dist-packages/seaborn/_decorators.py:43: FutureWarning: Pass the following variable as a keyword arg: x. From version 0.12, the only valid positional argument will be `data`, and passing other arguments without an explicit keyword will result in an error or misinterpretation.\n",
      "  FutureWarning\n"
     ]
    },
    {
     "data": {
      "image/png": "[encoded data removed]",
      "text/plain": [
       "<Figure size 864x576 with 1 Axes>"
      ]
     },
     "metadata": {
      "needs_background": "light",
      "tags": []
     },
     "output_type": "display_data"
    }
   ],
   "source": [
    "calefaccion_sns = datos.map(lambda x: (decadas(int(x[1])), x[3])).sortBy(lambda x: x[0])\n",
    "\n",
    "plt.figure(figsize = (12, 8))\n",
    "\n",
    "sns.countplot(calefaccion_sns.map(lambda x: x[0]).collect(), hue = calefaccion_sns.map(lambda x: x[1]).collect())\n",
    "plt.xticks(rotation = 90)\n",
    "plt.legend(loc = \"upper left\")\n",
    "plt.grid(ls = \":\")\n",
    "plt.title(\"Estado de la calefacción en función de las déacadas\", size = 18);"
   ]
  },
  {
   "cell_type": "markdown",
   "metadata": {
    "id": "CV10rvVSN9Yu"
   },
   "source": [
    "La diferencia entre los tipos de calefacción es clara. Las viviendas de dos últimas décadas están claramente mejor preparadas para el frío que aquellas de años anteriores.\n",
    "\n",
    "No obstante, se aprecia que en las décadas de 1940 hasta 1990 el servicio de calefacción no primaba como una característica importante como parece serlo en las últimas décadas, ya que la mayor parte de las viviendas presentan un servicio medio (\"TA\") de calefacción. Esto puede deberse también a que antes no era tan sencillo acondicionar una vivienda contra el frío, pues más allá del recubrimiento exterior, la mayor parte de las viviendas de esa época solían calentarse a través de chimeneas o estufas de combustión (probablemente canalizadas desde el sótano). Desde este punto de vista es fácil entender la calidad de \"normal\" o incluso de _\"fair\"_ en las condiciones de calefacción. De hecho, aquellas de estas épocas catalogadas como excelentes probablemente sea porque hayan sido reacondicionadas años posteriores a su edificación."
   ]
  },
  {
   "cell_type": "markdown",
   "metadata": {
    "id": "MJS8hUY9Y3As"
   },
   "source": [
    "## __6.- ¿Cuáles son las 10 viviendas que se vendieron por un precio más elevado por metro cuadrado en el año 2009?__"
   ]
  },
  {
   "cell_type": "markdown",
   "metadata": {
    "id": "NUJQuPNOOJBZ"
   },
   "source": [
    "Para contestar a esta pregunta, lo primero que debemos hacer es calcular los metros cuadrados de las viviendas que aparecen en el dataset. La superficie de las mismas viene estimada en pies cuadrados, por lo que para conocer el precio  del metro cuadrado, deberemos aplicar el siguiente factor de conversión:\n",
    "\n",
    "1 $m^{2}$ = 10.764 pie$^{2}$ $<=>$ 1 pie$^{2}$ = 0.093 m$^{2}$ "
   ]
  },
  {
   "cell_type": "markdown",
   "metadata": {
    "id": "TFiw4-j35UPc"
   },
   "source": [
    "Una vez transformado a metros cuadrados, dividiendo la columna de precio entre la de metros cuadrados obtendremos el precio por metro cuadrado de las viviendas. Para contestar correctamente a la pregunta, previamente a lo comentado debo filtrar la columna de año de venta para el año 2009. Después, cogiendo el valor del indicador, las columnas del precio y los metros cuadrados, crearé un RDD que contenga una tupla con dicho indicador, metros cuadrados y precios para el año 2009, en la forma (indicador, (precio, m$^{2}$)). Dividiendo los elementos de la segunda componente de la tupla obtendremos el precio por metro cuadrado para cada indicador. Posteriormente, ordenándolos de mayor a menor, tomando los 10 primeros habremos obtenido las 10 viviendas vendidas con un mayor ratio de precio$/m^{2}$."
   ]
  },
  {
   "cell_type": "code",
   "execution_count": null,
   "metadata": {
    "colab": {
     "base_uri": "https://localhost:8080/"
    },
    "id": "RiukYxwGth6W",
    "outputId": "3bba3ebf-fc9e-4b6c-c970-ea13940efcad"
   },
   "outputs": [
    {
     "data": {
      "text/plain": [
       "[(936, 1025.641),\n",
       " (934, 989.999),\n",
       " (464, 820.201),\n",
       " (935, 807.119),\n",
       " (408, 764.849),\n",
       " (407, 755.248),\n",
       " (405, 716.846),\n",
       " (933, 713.537),\n",
       " (403, 710.445),\n",
       " (411, 700.34)]"
      ]
     },
     "execution_count": 234,
     "metadata": {
      "tags": []
     },
     "output_type": "execute_result"
    }
   ],
   "source": [
    "datos.filter(lambda x: x[2] == 2009).\\\n",
    "      map(lambda x: (x[4],((float(x[8])*0.093), float(x[9])))).\\\n",
    "      map(lambda x: (x[0], round(float(x[1][1]/x[1][0]),3))).\\\n",
    "      sortBy(lambda x: x[1], False).take(10)"
   ]
  },
  {
   "cell_type": "markdown",
   "metadata": {
    "id": "vi42DtSjycMA"
   },
   "source": [
    "La vivienda con el precio por metro cuadrado más caro del año 2009 se corresponde con el indicador 936, que presenta las características siguientes:"
   ]
  },
  {
   "cell_type": "code",
   "execution_count": 62,
   "metadata": {
    "colab": {
     "base_uri": "https://localhost:8080/"
    },
    "id": "NPWdODtayjOQ",
    "outputId": "47e9cb74-8741-4671-e8e2-f21a468eda1e"
   },
   "outputs": [
    {
     "data": {
      "text/plain": [
       "[('RM', 1980, 2009, 'TA', 936, 1, 2, 2, 1300.0, 124000.0, 561, 'None')]"
      ]
     },
     "execution_count": 62,
     "metadata": {
      "tags": []
     },
     "output_type": "execute_result"
    }
   ],
   "source": [
    "datos.filter(lambda x: x[4] == 936).collect()"
   ]
  },
  {
   "cell_type": "markdown",
   "metadata": {
    "id": "XrflTo7D2TNg"
   },
   "source": [
    "Bastante sorprendente el resultado, pues la casa es de 1980, se encuentra en un barrio residencial de densidad media, calefacción normal, 1 cocina, 2 garajes y 2 dormitorios, 1300 pies$^{2}$ (121 m$^{2}$), 124k $ y sin revestimiento. "
   ]
  },
  {
   "cell_type": "markdown",
   "metadata": {
    "id": "2b2qmievY3As"
   },
   "source": [
    "## __7.- Media anual por zonas del precio de venta y metros cuadrados.__"
   ]
  },
  {
   "cell_type": "markdown",
   "metadata": {
    "id": "fwPkJaTicjxW"
   },
   "source": [
    "Esta pregunta se puede intepretar de varias formas. En mi caso, consideraré que pregunta por la media del precio de venta y la media de los $m^{2}$, por separado, para cada año y cada zona. Es decir, cogeré dos tuplas:\n",
    "\n",
    "+ Una tupla que contenga la zona, el año de venta y el precio de venta, agrupadas en la forma: ((`Zona`, `Año de venta`), `Precio`).\n",
    "\n",
    "+ Otra tupla que contenga la zona, el año de venta y los metros cuadrados de las viviendas, agrupadas en la forma: ((`Zona`, `Año de venta`), $m^{2}$).\n",
    "\n",
    "Una vez agrupadas de esa manera, generaré un _combineByKey_ y calcularé las medias por año y por zonas para los precios y los $m^{2}$ por separado.\n",
    "\n",
    "Los resultados los ordenaré por años:"
   ]
  },
  {
   "cell_type": "code",
   "execution_count": 63,
   "metadata": {
    "id": "q99AoqJD9bP1"
   },
   "outputs": [],
   "source": [
    "# Genero los dos RDD como las tuplas dichas:\n",
    "\n",
    "precios = datos.map(lambda x: ((x[0], x[2]), x[9]))\n",
    "\n",
    "m2 = datos.map(lambda x: ((x[0], x[2]), x[8]*0.093)) "
   ]
  },
  {
   "cell_type": "markdown",
   "metadata": {
    "id": "abOvWWYO5VyN"
   },
   "source": [
    "a) Precios:"
   ]
  },
  {
   "cell_type": "code",
   "execution_count": 64,
   "metadata": {
    "colab": {
     "base_uri": "https://localhost:8080/"
    },
    "id": "vGnSWgM89bG-",
    "outputId": "4a81c413-41b0-46f5-e700-647a24c865f8"
   },
   "outputs": [
    {
     "data": {
      "text/plain": [
       "[(('RL', 2006), 194350.64),\n",
       " (('RH', 2006), 140316.67),\n",
       " (('RM', 2006), 127502.64),\n",
       " (('RM', 2007), 128947.62),\n",
       " (('RH', 2007), 147250.0),\n",
       " (('RL', 2007), 193399.98),\n",
       " (('RH', 2008), 150333.33),\n",
       " (('RM', 2008), 133336.12),\n",
       " (('RL', 2008), 189885.59),\n",
       " (('RL', 2009), 190455.55),\n",
       " (('RM', 2009), 118759.87),\n",
       " (('RH', 2009), 116206.8),\n",
       " (('RL', 2010), 184978.42),\n",
       " (('RH', 2010), 126280.0),\n",
       " (('RM', 2010), 119681.71)]"
      ]
     },
     "execution_count": 64,
     "metadata": {
      "tags": []
     },
     "output_type": "execute_result"
    }
   ],
   "source": [
    "precios_media = precios.combineByKey(\n",
    "                                    (lambda x: (x, 1)), \n",
    "                                    (lambda x1, y1: (x1[0] + y1, x1[1] + 1)), \n",
    "                                    (lambda x2, y2: (x2[0] + y2[0], x2[1] + y2[1])) \n",
    "                                    ).\\\n",
    "                                    map(lambda x: (x[0], round(x[1][0]/x[1][1], 2))).\\\n",
    "                                    sortBy(lambda y: y[0][1]).collect()\n",
    "precios_media"
   ]
  },
  {
   "cell_type": "markdown",
   "metadata": {
    "id": "j73AqJ3k5YvB"
   },
   "source": [
    "b) m$^{2}$:"
   ]
  },
  {
   "cell_type": "code",
   "execution_count": 78,
   "metadata": {
    "colab": {
     "base_uri": "https://localhost:8080/"
    },
    "id": "aHw7-UBe9bAC",
    "outputId": "42d5eaf7-e52a-4a28-e107-278b0fe980b0"
   },
   "outputs": [
    {
     "data": {
      "text/plain": [
       "[(('RL', 2006), 1044.88),\n",
       " (('RH', 2006), 660.25),\n",
       " (('RM', 2006), 575.61),\n",
       " (('RM', 2007), 626.1),\n",
       " (('RH', 2007), 652.0),\n",
       " (('RL', 2007), 1060.78),\n",
       " (('RH', 2008), 766.94),\n",
       " (('RM', 2008), 624.32),\n",
       " (('RL', 2008), 1048.75),\n",
       " (('RL', 2009), 1003.23),\n",
       " (('RM', 2009), 553.13),\n",
       " (('RH', 2009), 647.82),\n",
       " (('RL', 2010), 1012.42),\n",
       " (('RH', 2010), 753.82),\n",
       " (('RM', 2010), 586.72)]"
      ]
     },
     "execution_count": 78,
     "metadata": {
      "tags": []
     },
     "output_type": "execute_result"
    }
   ],
   "source": [
    "year_m2 = m2.combineByKey(\n",
    "                          (lambda x: (x, 1)), \n",
    "                          (lambda x1, y1: (x1[0] + y1, x1[1] + 1)), \n",
    "                          (lambda x2, y2: (x2[0] + y2[0], x2[1] + y2[1])) \n",
    "                          ).\\\n",
    "                          map(lambda x: (x[0], round(x[1][0]/x[1][1], 2))).\\\n",
    "                          sortBy(lambda y: y[0][1])\n",
    "\n",
    "year_m2.collect()"
   ]
  },
  {
   "cell_type": "markdown",
   "metadata": {
    "id": "pk0LpGUS6oEF"
   },
   "source": [
    "c) Los dos juntos: precio por metro cuadrado por año de venta y zona residencial:"
   ]
  },
  {
   "cell_type": "code",
   "execution_count": 79,
   "metadata": {
    "colab": {
     "base_uri": "https://localhost:8080/"
    },
    "id": "8lO2bV8N5iO-",
    "outputId": "30445b06-2891-4b17-d710-be4c69b52dea"
   },
   "outputs": [
    {
     "data": {
      "text/plain": [
       "[(('RL', 2006), 210.41),\n",
       " (('RH', 2006), 232.04),\n",
       " (('RM', 2006), 302.62),\n",
       " (('RM', 2007), 261.89),\n",
       " (('RH', 2007), 247.42),\n",
       " (('RL', 2007), 210.19),\n",
       " (('RH', 2008), 255.73),\n",
       " (('RM', 2008), 272.41),\n",
       " (('RL', 2008), 207.17),\n",
       " (('RL', 2009), 215.19),\n",
       " (('RM', 2009), 303.55),\n",
       " (('RH', 2009), 203.57),\n",
       " (('RL', 2010), 205.3),\n",
       " (('RH', 2010), 190.44),\n",
       " (('RM', 2010), 266.93)]"
      ]
     },
     "execution_count": 79,
     "metadata": {
      "tags": []
     },
     "output_type": "execute_result"
    }
   ],
   "source": [
    "precio_por_m2 = datos.map(lambda x: ((x[0], x[2]), x[9]/(x[8]*0.093)))\n",
    "\n",
    "precio_m2_year = precio_por_m2.combineByKey(\n",
    "                                            (lambda x: (x, 1)), \n",
    "                                            (lambda x1, y1: (x1[0] + y1, x1[1] + 1)), \n",
    "                                            (lambda x2, y2: (x2[0] + y2[0], x2[1] + y2[1])) \n",
    "                                            ).\\\n",
    "                                            map(lambda x: (x[0], round(x[1][0]/x[1][1], 2))).\\\n",
    "                                            sortBy(lambda y: y[0][1])\n",
    "\n",
    "precio_m2_year.collect()"
   ]
  },
  {
   "cell_type": "markdown",
   "metadata": {
    "id": "UE3fqhlKY3At"
   },
   "source": [
    "## __8.- ¿Podrías decirme el total de recaudación de las casas de revistimiento (Mas Vnr Type) de piedra con respecto a las de ladrillo? ¿Hay diferencia significativa?__"
   ]
  },
  {
   "cell_type": "markdown",
   "metadata": {
    "id": "g-XnzwDMFph-"
   },
   "source": [
    "En esta pregunta entiendo como total de recaudación la suma de los precios de las viviendas en venta. De esta forma, este total lo calcularé filtrando en primer lugar por las viviendas de ladrillo (tanto normal como visto), y en segundo lugar haciendo lo propio con las de piedra. Una vez hecho el filtro, simplemente habrá que tomar la columna del precio de venta de la casa y calcular la suma para ambos RDD, así como la media de ambas (ya que queremos comparar, y de ladrillo hay casi 900 viviendas, mientras que de piedra hay menas de 300, por lo que las comparaciones no serían \"justas\" en absoluto).\n",
    "\n",
    "Una vez calculada las medias de ambos casos (piedra y ladrillo), podremos compararlas entre ellas. Para saber si la diferencia es grande o \"significativa\" consideraré representar unos _boxplot_ para comparar sus estadísticos principales y saber si son apreciablemente diferentes los precios de viviendas de ladrillo y piedra."
   ]
  },
  {
   "cell_type": "code",
   "execution_count": 81,
   "metadata": {
    "colab": {
     "base_uri": "https://localhost:8080/"
    },
    "id": "9GxL5fcUFJ2d",
    "outputId": "c4c2c1e5-a168-45de-d5ef-9d87b2da1668"
   },
   "outputs": [
    {
     "name": "stdout",
     "output_type": "stream",
     "text": [
      "El total de recaudación de las casas de revestimiento de ladrillo es de:  182417536.0 $.\n"
     ]
    }
   ],
   "source": [
    "ladrillo = datos.filter(lambda x: x[11] == 'BrkCmn' or x[11] == 'BrkFace').map(lambda x: (float(x[9])))\n",
    "\n",
    "print(\"El total de recaudación de las casas de revestimiento de ladrillo es de: \", ladrillo.sum(), \"$.\")\n",
    "\n",
    "media_ladrillo = round(ladrillo.sum()/ladrillo.count(),2)"
   ]
  },
  {
   "cell_type": "code",
   "execution_count": 82,
   "metadata": {
    "colab": {
     "base_uri": "https://localhost:8080/"
    },
    "id": "uimxZS-mFJye",
    "outputId": "4ad6d939-ec07-4e7e-d0f8-d29568686c3f"
   },
   "outputs": [
    {
     "name": "stdout",
     "output_type": "stream",
     "text": [
      "El total de recaudación de las casas de revestimiento de ladrillo es de:  60175477.0 $\n"
     ]
    }
   ],
   "source": [
    "piedra = datos.filter(lambda x: x[11] == 'Stone').map(lambda x: (float(x[9])))\n",
    "\n",
    "print(\"El total de recaudación de las casas de revestimiento de ladrillo es de: \", piedra.sum(), \"$\")\n",
    "\n",
    "media_piedra = round(piedra.sum()/piedra.count(),2)"
   ]
  },
  {
   "cell_type": "markdown",
   "metadata": {
    "id": "T3Mxz5q_jmM7"
   },
   "source": [
    "La diferencia de los precios, en media, de las viviendas con revestimientos de ladrillo frente a las de piedra la podemos calcular como:"
   ]
  },
  {
   "cell_type": "code",
   "execution_count": 83,
   "metadata": {
    "colab": {
     "base_uri": "https://localhost:8080/"
    },
    "id": "Hzeo-2kQFJpX",
    "outputId": "bcc25687-bac7-4b40-91dc-382c2cd2bc4c"
   },
   "outputs": [
    {
     "name": "stdout",
     "output_type": "stream",
     "text": [
      "El ratio de precios, en media, de las casas de ladrillo frente las de piedra es de: 0.7951851661997844\n"
     ]
    }
   ],
   "source": [
    "print(\"El ratio de precios, en media, de las casas de ladrillo frente las de piedra es de:\", media_ladrillo/media_piedra)"
   ]
  },
  {
   "cell_type": "markdown",
   "metadata": {
    "id": "gc-8RO4sJ_hr"
   },
   "source": [
    "Las casas de ladrillo valen, aproximadamente, un 20% menos (en media) que lo que cuestan las casas de piedra. \n",
    "\n",
    "Para asegurarnos de este resultado, implementaré un boxplot con los resultados de los precios de las viviendas de ladrillo y las viviendas de piedra. Entonces se apreciará cuáles son las distribuciones de precio reales de cada una de ellas."
   ]
  },
  {
   "cell_type": "code",
   "execution_count": null,
   "metadata": {
    "id": "ZrBq-uihfnFY"
   },
   "outputs": [],
   "source": [
    "ladrillo_plot = ladrillo.collect()\n",
    "\n",
    "piedra_plot = piedra.collect()"
   ]
  },
  {
   "cell_type": "code",
   "execution_count": null,
   "metadata": {
    "colab": {
     "base_uri": "https://localhost:8080/",
     "height": 575
    },
    "id": "1AMQceh0f-t5",
    "outputId": "453d351a-9655-464a-bf41-d1513a8a5c72"
   },
   "outputs": [
    {
     "name": "stderr",
     "output_type": "stream",
     "text": [
      "/usr/local/lib/python3.6/dist-packages/numpy/core/_asarray.py:83: VisibleDeprecationWarning: Creating an ndarray from ragged nested sequences (which is a list-or-tuple of lists-or-tuples-or ndarrays with different lengths or shapes) is deprecated. If you meant to do this, you must specify 'dtype=object' when creating the ndarray\n",
      "  return array(a, dtype, copy=False, order=order)\n"
     ]
    },
    {
     "data": {
      "image/png": "[encoded data removed]",
      "text/plain": [
       "<Figure size 936x576 with 1 Axes>"
      ]
     },
     "metadata": {
      "needs_background": "light",
      "tags": []
     },
     "output_type": "display_data"
    }
   ],
   "source": [
    "plt.figure(figsize = (13,8))\n",
    "\n",
    "plt.boxplot([ladrillo_plot, piedra_plot], widths = 0.9, showmeans = True)\n",
    "plt.xticks([1,2], ('Ladrillo', 'Piedra'))\n",
    "plt.title('Precio de viviendas de ladrillo vs. de piedra', size = 20)\n",
    "plt.xlabel('Tipo de revestimiento', size = 14)\n",
    "plt.ylabel('Precio [$]', size = 14);"
   ]
  },
  {
   "cell_type": "markdown",
   "metadata": {
    "id": "Uac-Mqe1ivjx"
   },
   "source": [
    "Como vemos, es evidente que las casas con un revestimiento de piedra son más caras que las que presentan un revestimiento de ladrillo. El ratio de las medias no era demasiado esclarecedor, pero en este boxplot vemos como el primer cuartil de las casas de piedra coincide con la mediana de las casas de ladrillo, así como la mediana de las casas de piedra coincide con el 3er cuartil de las de ladrillo. Por tanto, podemos concluir que las casas con revestimiento de piedra son significativamente más caras que las que presentan revestimiento de ladrillo (por lo menos para los barrios residenciales que estábamos considerando).\n",
    "\n",
    "Una forma complementaria de averiguar si los precios de las viviendas de ladrillo son realmente más baratas que las de piedra es estudiar la distribución de sus precios a través de unos histogramas. Si superponemos los dos histogramas podremos comparar sus distribuciones, siempre y cuando explicitemos que queremos representar histogramas de densidad (no absolutos).\n"
   ]
  },
  {
   "cell_type": "code",
   "execution_count": null,
   "metadata": {
    "colab": {
     "base_uri": "https://localhost:8080/",
     "height": 520
    },
    "id": "zhUByvwYtftK",
    "outputId": "eb8ef0b9-b985-47f8-8ee8-f2848e11d4eb"
   },
   "outputs": [
    {
     "data": {
      "image/png": "[encoded data removed]",
      "text/plain": [
       "<Figure size 936x576 with 1 Axes>"
      ]
     },
     "metadata": {
      "needs_background": "light",
      "tags": []
     },
     "output_type": "display_data"
    }
   ],
   "source": [
    "plt.figure(figsize = (13,8))\n",
    "\n",
    "plt.hist(ladrillo_plot, density = True, alpha = 0.7, label = 'Ladrillo')\n",
    "plt.hist(piedra_plot, density = True, alpha = 0.5, label = 'Piedra')\n",
    "plt.grid(ls = ':')\n",
    "plt.title('Histograma de precios vs. recubrimiento de fachada', size = 18)\n",
    "plt.ylabel('Density', size = 14)\n",
    "plt.xlabel('Precio [$]', size = 14)\n",
    "plt.legend();"
   ]
  },
  {
   "cell_type": "markdown",
   "metadata": {
    "id": "071pEG4k56AX"
   },
   "source": [
    "En el histograma comprobamos como, efectivamente, los precios de las casas de piedra están desplazados hacia la derecha; es decir, hacia posiciones de precios mayores, en contraste con las de ladrillo, que se agrupan en su mayoría en precios menores."
   ]
  },
  {
   "cell_type": "markdown",
   "metadata": {
    "id": "ay3SSdnaY3At"
   },
   "source": [
    "## __9.-¿Cuánto son más caras las viviendas con 2 cocinas, con 2 o más plazas de garaje que las que tienen 1 cocina y 1 plaza de garaje? Comparar medias y cuartiles de ambos casos.__"
   ]
  },
  {
   "cell_type": "markdown",
   "metadata": {
    "id": "jMzr5S5elb8K"
   },
   "source": [
    "Para comparar los precios de las viviendas con 2 cocinas y 2 o más plazas de garaje frente a las que solo presentan una de cada, debemos crear dos RDD nuevos: \n",
    "\n",
    "+ Uno aplicando el filtro de 1 cocina y 1 plaza de garaje, creando un RDD que contenga los precios para esas viviendas,\n",
    "\n",
    "+ Otro aplicando el filtro de 2 cocinas y 2 ó más plazas de garaje, creando otro RDD que contenga los precios de dichas viviendas.\n",
    "\n",
    "Después, para poder compararlas, habrá que calcular las medias para cada tipo de viviendas. Al hacer esto, obtendré:"
   ]
  },
  {
   "cell_type": "markdown",
   "metadata": {
    "id": "9ToX-gX_mRzF"
   },
   "source": [
    "+ Para las de dos o más cocinas y garajes:"
   ]
  },
  {
   "cell_type": "code",
   "execution_count": null,
   "metadata": {
    "id": "8F1xgK0MKgFp"
   },
   "outputs": [],
   "source": [
    "dos_o_mas = datos.filter(lambda x: (x[5] == 2 and x[6] >= 2)).\\\n",
    "                  map(lambda x: (float(x[9])))\n",
    "\n",
    "media_dos_o_mas = round(dos_o_mas.sum()/dos_o_mas.count(),2)"
   ]
  },
  {
   "cell_type": "markdown",
   "metadata": {
    "id": "aV0bifg0mVVi"
   },
   "source": [
    "+ Para las de una cocina y una plaza de garaje:"
   ]
  },
  {
   "cell_type": "code",
   "execution_count": null,
   "metadata": {
    "id": "LQ6ZnuDKM4fV"
   },
   "outputs": [],
   "source": [
    "una = datos_buenos.filter(lambda x: (x[5] == 1 and x[6] == 1)).\\\n",
    "                   map(lambda x: float(x[9]))\n",
    "\n",
    "media_una = round(una.sum()/una.count(), 2)"
   ]
  },
  {
   "cell_type": "markdown",
   "metadata": {
    "id": "x0B1IXMNmZsH"
   },
   "source": [
    "Calculamos el ratio de medias para comparar:"
   ]
  },
  {
   "cell_type": "code",
   "execution_count": null,
   "metadata": {
    "colab": {
     "base_uri": "https://localhost:8080/"
    },
    "id": "wXjrnWQjKf9i",
    "outputId": "8190aa0e-2a0c-4437-8f8c-0a76e2d9125d"
   },
   "outputs": [
    {
     "name": "stdout",
     "output_type": "stream",
     "text": [
      "El ratio de las medias de las viviendas con 1 cocina y 1 plaza de garaje frente a las de 2 cocinas y plazas de garaje es de: 0.88\n"
     ]
    }
   ],
   "source": [
    "print(\"El ratio de las medias de las viviendas con 1 cocina y 1 plaza de garaje frente a las de 2 cocinas y plazas de garaje es de:\", round(media_una/media_dos_o_mas, 2))"
   ]
  },
  {
   "cell_type": "markdown",
   "metadata": {
    "id": "avvRtu0smsAo"
   },
   "source": [
    "Los pisos con dos cocinas y dos o más plazas de garaje son, en media, un 12% más caras que las que solo contienen una cocina y una plaza de garaje.\n",
    "\n",
    "De la misma forma que antes, voy a estudiar la distribución de los estadísticos principales de las viviendas con 2 cocinas y 2 o más plazas de garaje frente a los de las de 1 cocina y 1 garaje. Esto es: "
   ]
  },
  {
   "cell_type": "code",
   "execution_count": null,
   "metadata": {
    "colab": {
     "base_uri": "https://localhost:8080/",
     "height": 575
    },
    "id": "o6q__LnmjiTg",
    "outputId": "78320382-953e-47a8-afcf-877464b47002"
   },
   "outputs": [
    {
     "name": "stderr",
     "output_type": "stream",
     "text": [
      "/usr/local/lib/python3.6/dist-packages/numpy/core/_asarray.py:83: VisibleDeprecationWarning: Creating an ndarray from ragged nested sequences (which is a list-or-tuple of lists-or-tuples-or ndarrays with different lengths or shapes) is deprecated. If you meant to do this, you must specify 'dtype=object' when creating the ndarray\n",
      "  return array(a, dtype, copy=False, order=order)\n"
     ]
    },
    {
     "data": {
      "image/png": "[encoded data removed]",
      "text/plain": [
       "<Figure size 936x576 with 1 Axes>"
      ]
     },
     "metadata": {
      "needs_background": "light",
      "tags": []
     },
     "output_type": "display_data"
    }
   ],
   "source": [
    "plt.figure(figsize = (13,8))\n",
    "\n",
    "plt.boxplot([una.collect(), dos_o_mas.collect()], widths = 0.9, showmeans = True)\n",
    "plt.xticks([1,2], ['Una cocina y 1 plaza', '2 cocinas y 2 plazas'])\n",
    "plt.xlabel('Número de plazas de garaje y de cocinas', size = 14)\n",
    "plt.ylabel('Precio [$]', size = 14)\n",
    "plt.title('Número de cocinas y plazas de garaje vs. Precio', size = 18);"
   ]
  },
  {
   "cell_type": "markdown",
   "metadata": {
    "id": "qCK3h5NjlNcx"
   },
   "source": [
    "Con este gráfico ratificamos que parece existir una diferencia de precio con respecto al número de cocinas y de plazas de garaje (aunque no tanto como en un principio podríamos suponer). Se aprecia que la mediana de los precios de las casas con 2 cocinas y 2 o más plazas de garaje coincide con el tercer cuartil de aquellas casas con 1 cocina y 1 plaza. \n",
    "\n",
    "También vemos que aparece un número elevado de \"outliers\" en el precio de las casas con una cocina y una plaza de garaje, lo cual hace que los resultados de los estadísticos no puedan ser tomados como totalmente fiables.\n",
    "\n",
    "Si observamos, como en el caso anterior, la distribución del precio de las viviendas para ambos casos (en un histograma de densidad), veremos como ambas distribuciones se solapan bastante hasta el punto de los 18k-20k $, valor a partir del cual predominan las viviendas con 2 cocinas y plazas de garaje. \n",
    "\n",
    "Por tanto, aunque la diferencia no es tan evidente como antes, podemos establecer que sí hay una diferencia en el precio en función del número de cocinas y plazas de garaje. "
   ]
  },
  {
   "cell_type": "code",
   "execution_count": null,
   "metadata": {
    "colab": {
     "base_uri": "https://localhost:8080/",
     "height": 517
    },
    "id": "iIwbcVf-vfri",
    "outputId": "946cffc5-8eb7-46ab-d600-0aec788eab77"
   },
   "outputs": [
    {
     "data": {
      "image/png": "[encoded data removed]",
      "text/plain": [
       "<Figure size 936x576 with 1 Axes>"
      ]
     },
     "metadata": {
      "needs_background": "light",
      "tags": []
     },
     "output_type": "display_data"
    }
   ],
   "source": [
    "plt.figure(figsize = (13,8))\n",
    "\n",
    "plt.hist(una.collect(), density = True, alpha = 0.7, label = 'Una cocina/plaza garaje')\n",
    "plt.hist(dos_o_mas.collect(), density = True, alpha = 0.5, label = 'Dos cocinas/plazas garaje')\n",
    "plt.legend()\n",
    "plt.grid(ls = ':')\n",
    "plt.title(\"Histograma de precios vs. número de cocinas y plazas de garaje\", size = 18)\n",
    "plt.xlabel(\"Precio [$]\")\n",
    "plt.ylabel('Density');"
   ]
  },
  {
   "cell_type": "markdown",
   "metadata": {
    "id": "lBDdDsn49ly0"
   },
   "source": [
    "Cabe preguntarse por qué el número de plazas de garaje y cocinas no afecta de una forma tan apreciable como a priori cabía esperar. Por eso decidí estudiar por separado cómo afectan el número de cocinas y de garajes por separado. En particular, estudiaré la distribución de los precios para viviendas con 1, 2 y 3+ plazas de garaje, y para 1 y 2+ cocinas. El resultado es el siguiente:"
   ]
  },
  {
   "cell_type": "code",
   "execution_count": 111,
   "metadata": {
    "colab": {
     "base_uri": "https://localhost:8080/",
     "height": 517
    },
    "id": "H9SVwGnj-R-x",
    "outputId": "ac3fb709-8946-41ce-e1bb-2f14eea400e3"
   },
   "outputs": [
    {
     "data": {
      "image/png": "[encoded data removed]",
      "text/plain": [
       "<Figure size 864x576 with 1 Axes>"
      ]
     },
     "metadata": {
      "needs_background": "light",
      "tags": []
     },
     "output_type": "display_data"
    }
   ],
   "source": [
    "plt.figure(figsize = (12, 8))\n",
    "\n",
    "plt.hist(datos.filter(lambda x: (x[6] == 0)).map(lambda x: x[9]).collect(), density = True, alpha = 0.9, label = \"Sin garaje\") \n",
    "plt.hist(datos.filter(lambda x: (x[6] == 1)).map(lambda x: x[9]).collect(), density = True, alpha = 0.8, label = \"Un garaje\") \n",
    "plt.hist(datos.filter(lambda x: (x[6] == 2)).map(lambda x: x[9]).collect(), density = True, alpha = 0.4, label = \"Dos garajes\")\n",
    "plt.hist(datos.filter(lambda x: (x[6] >= 3)).map(lambda x: x[9]).collect(), density = True, alpha = 0.6, label = \"Tres o más garajes\")\n",
    "plt.title('Distribución del precio en función del número de garajes', size = 18)\n",
    "plt.xlabel('Precio [$]')\n",
    "plt.ylabel('Density')\n",
    "plt.legend();"
   ]
  },
  {
   "cell_type": "code",
   "execution_count": 112,
   "metadata": {
    "colab": {
     "base_uri": "https://localhost:8080/",
     "height": 517
    },
    "id": "d1QlzJXA-R_L",
    "outputId": "9aa366ff-ebfd-46db-e861-a676c41cac7c"
   },
   "outputs": [
    {
     "data": {
      "image/png": "[encoded data removed]",
      "text/plain": [
       "<Figure size 864x576 with 1 Axes>"
      ]
     },
     "metadata": {
      "needs_background": "light",
      "tags": []
     },
     "output_type": "display_data"
    }
   ],
   "source": [
    "plt.figure(figsize = (12, 8))\n",
    "\n",
    "plt.hist(datos.filter(lambda x: (x[5] == 1)).map(lambda x: x[9]).collect(), density = True, alpha = 0.6, label = \"Una cocina\") \n",
    "plt.hist(datos.filter(lambda x: (x[5] >= 2)).map(lambda x: x[9]).collect(), density = True, alpha = 0.5, label = \"Dos o más cocinas\")\n",
    "plt.title('Distribución del precio en función del número de cocinas', size = 18)\n",
    "plt.xlabel('Precio [$]')\n",
    "plt.ylabel('Density')\n",
    "plt.legend();"
   ]
  },
  {
   "cell_type": "markdown",
   "metadata": {
    "id": "65V1VQoC-UDX"
   },
   "source": [
    "Como vemos, el número de garajes afecta al precio de una forma evidente: cuanto mayor es el número de garajes, la distribución de los precios se mueve más hacia la derecha del gráfico. Esto es, a medida que aumenta el número de plazas de garaje, aumenta el precio del inmueble.\n",
    "\n",
    "Todo lo contrario ocurre con las cocinas. Vemos en el gráfico que el número de cocinas no parece afectar en absoluto al precio, pues hay viviendas con una cocina mucho más caras que aquellas con un número mayor de cocinas. De hecho, el máximo de distribución se acumula en torno a los 100-150k $ para las de 2+ cocinas, siendo mucho más ensanchada la distribución para las viviendas de una sola cocina. \n",
    "\n",
    "Esto es lo que provoca el resultado de antes: la relación cocina + garaje vs. precios no está tan clara como cabría esperar porque mientras que las plazas de garaje contribuyen en gran medida a aumentar el precio, el número de cocinas no participa de esa forma. No obstante, en compendio, el efecto de los garajes hace que los precios aumenten para el filtro cocina+garaje en conjunto, aunque de forma mucho menos notable."
   ]
  },
  {
   "cell_type": "markdown",
   "metadata": {
    "id": "DiSabLO8Y3Au"
   },
   "source": [
    "## __Complementaria 1.- Estudiar la relación entre el precio y el número de Garajes. (Recomiendo segmentar precio por cuartiles y estudiar el número de casos coincidentes).__"
   ]
  },
  {
   "cell_type": "markdown",
   "metadata": {
    "id": "3O3GJjJY74cz"
   },
   "source": [
    "Esto ya se ha visto en segundo gráfico anterior, donde se veía que la distribución de los precios aumentaba a medida que aumenta el número de plazas de garaje por vivienda. \n",
    "\n",
    "Para estudiar de otra forma si influye el número de garajes en el precio de la vivienda, lo que haré será estudiar los principales estadísticos del precio para cada valor del número de garajes. Si realmente hay una diferencia de precios, entonces saldrá reflejado en la mediana y los cuartiles de los boxplot que implementaré.\n",
    "\n",
    "En primer lugar haré un _scatterplot_ para observar si, a priori, podemos establecer una dependencia entre ambas variables. Esto es:"
   ]
  },
  {
   "cell_type": "code",
   "execution_count": null,
   "metadata": {
    "id": "2hSLa2iusZlG"
   },
   "outputs": [],
   "source": [
    "precio_garajes = datos.map(lambda x: (x[6], x[9]))"
   ]
  },
  {
   "cell_type": "code",
   "execution_count": null,
   "metadata": {
    "colab": {
     "base_uri": "https://localhost:8080/",
     "height": 521
    },
    "id": "PeorNKcZsZhR",
    "outputId": "12f702b0-6db4-4b73-d239-fb2be4fec44b"
   },
   "outputs": [
    {
     "name": "stderr",
     "output_type": "stream",
     "text": [
      "/usr/local/lib/python3.6/dist-packages/seaborn/_decorators.py:43: FutureWarning: Pass the following variables as keyword args: x, y. From version 0.12, the only valid positional argument will be `data`, and passing other arguments without an explicit keyword will result in an error or misinterpretation.\n",
      "  FutureWarning\n"
     ]
    },
    {
     "data": {
      "image/png": "[encoded data removed]",
      "text/plain": [
       "<Figure size 720x504 with 1 Axes>"
      ]
     },
     "metadata": {
      "needs_background": "light",
      "tags": []
     },
     "output_type": "display_data"
    }
   ],
   "source": [
    "plt.figure(figsize = (10, 7))\n",
    "\n",
    "sns.scatterplot(precio_garajes.map(lambda x: x[0]).collect(), precio_garajes.map(lambda x: x[1]).collect())\n",
    "plt.title('Precio del inmueble vs. Número de plazas de garaje', size = 18)\n",
    "plt.xlabel('Número de plazas de garaje', size = 14)\n",
    "plt.grid(ls = ':')\n",
    "plt.ylabel('Precio [$]', size = 14);"
   ]
  },
  {
   "cell_type": "markdown",
   "metadata": {
    "id": "6gAcpUeBk9tq"
   },
   "source": [
    "Parece que el precio va en aumento a medida que aumenta el número de plazas de garaje hasta que llegamos al valor de 4 plazas de garaje, valor a partir del cual se aprecia una disminución del mismo. Es cierto que no podemos tomarla como un resultado \"significativo\" pues el número de observaciones con 4 plazas de garaje es bastante pequeño en comparación con el resto de datos que tenemos del resto de número de plazas de garaje, pero los que hay no parecen esclarecer que el precio vaya a aumentar."
   ]
  },
  {
   "cell_type": "markdown",
   "metadata": {
    "id": "EwlOg7l1lVbP"
   },
   "source": [
    "Al implementar los diagramas _boxplot_ para observar cómo se distribuyen los estadísticos del precio vs. las plazas de garaje, obtendremos:"
   ]
  },
  {
   "cell_type": "code",
   "execution_count": null,
   "metadata": {
    "colab": {
     "base_uri": "https://localhost:8080/",
     "height": 521
    },
    "id": "9o5jQFCHsZdz",
    "outputId": "66966f34-3f03-4c9d-d677-5b962e48cb51"
   },
   "outputs": [
    {
     "name": "stderr",
     "output_type": "stream",
     "text": [
      "/usr/local/lib/python3.6/dist-packages/seaborn/_decorators.py:43: FutureWarning: Pass the following variables as keyword args: x, y. From version 0.12, the only valid positional argument will be `data`, and passing other arguments without an explicit keyword will result in an error or misinterpretation.\n",
      "  FutureWarning\n"
     ]
    },
    {
     "data": {
      "image/png": "[encoded data removed]",
      "text/plain": [
       "<Figure size 720x504 with 1 Axes>"
      ]
     },
     "metadata": {
      "needs_background": "light",
      "tags": []
     },
     "output_type": "display_data"
    }
   ],
   "source": [
    "plt.figure(figsize = (10, 7))\n",
    "\n",
    "sns.boxplot(precio_garajes.map(lambda x: x[0]).collect(), precio_garajes.map(lambda x: x[1]).collect())\n",
    "plt.title('Precio en función del número de plazas de garaje', size = 18)\n",
    "plt.ylabel('Precio [$]', size = 14)\n",
    "plt.xlabel('Número de plazas de garaje', size = 14);"
   ]
  },
  {
   "cell_type": "markdown",
   "metadata": {
    "id": "un1tUPC0l-W5"
   },
   "source": [
    "Recuperamos el resultado de que el precio va en aumento como consecuencia del aumento del número de plazas de garaje, hasta que llegamos a 4 plazas de garaje, donde disminuye. No obstante, como comentaba anteriormente, el resultado de 4 plazas de garaje no podemos tomarlo como \"una verdad absoluta\", pues el número de observaciones que tenemos es muy reducido en comparación con el resto, por lo que no es un caso representativo de lo que pueda ser la realidad. La solución a eto es considerar, como en la pregunta 9, 1, 2 y 3+ plazas de garaje, de manera que estaríamos \"salvando\" el problema de las pocas observaciones de viviendas con 4 plazas de garaje. "
   ]
  },
  {
   "cell_type": "markdown",
   "metadata": {
    "id": "k6U_e9q_mRTD"
   },
   "source": [
    "Calculando explícitamente el valor de la matriz de correlación entre ambas variables (tomado de uno de los archivos subidos de prácticas en clase), obtendremos que los datos, efectivamente, están altamente correlacionados:"
   ]
  },
  {
   "cell_type": "code",
   "execution_count": null,
   "metadata": {
    "id": "9mSoCN1zmaUB"
   },
   "outputs": [],
   "source": [
    "from pyspark.mllib.stat import Statistics \n",
    "\n",
    "correlation_matrix = Statistics.corr(precio_garajes, method=\"spearman\")\n",
    "correlation_matrix[1][0]"
   ]
  },
  {
   "cell_type": "code",
   "execution_count": null,
   "metadata": {
    "colab": {
     "base_uri": "https://localhost:8080/"
    },
    "id": "iLpJle0DoB8t",
    "outputId": "1c2f2bc9-44ea-4bd4-8181-27c8106f7025"
   },
   "outputs": [
    {
     "data": {
      "text/plain": [
       "0.7035835904798223"
      ]
     },
     "execution_count": 411,
     "metadata": {
      "tags": []
     },
     "output_type": "execute_result"
    }
   ],
   "source": [
    "correlation_matrix[1][0]"
   ]
  },
  {
   "cell_type": "markdown",
   "metadata": {
    "id": "7-nlpxUQoNfS"
   },
   "source": [
    "\n",
    "En definitiva, el precio de las viviendas __sí__ parece tener una dependencia con el número de plazas de garaje en el sentido de que: __a mayor número de plazas, mayor precio de la vivienda.__"
   ]
  },
  {
   "cell_type": "markdown",
   "metadata": {
    "id": "ecp36-8RY3Au"
   },
   "source": [
    "## __Complementaria 2.- Las 10 viviendas con mejores servicios y mejor precio.__"
   ]
  },
  {
   "cell_type": "markdown",
   "metadata": {
    "id": "AF54AnyyOZ9u"
   },
   "source": [
    "Vuelvo a tomar los datos que he cargado al inicio de la práctica pues, en este apartado, voy a utilizar muchas más variables de las consideradas en el resto de la práctica. Elimino la cabecera y parseo por ; y comienzo el apartado:"
   ]
  },
  {
   "cell_type": "code",
   "execution_count": 114,
   "metadata": {
    "id": "eSuZVlvspAoF"
   },
   "outputs": [],
   "source": [
    "cabecera = raw_data_1.first()\n",
    "cabecera_paralellize = sc.parallelize([cabecera])\n",
    "complementario = raw_data_1.subtract(cabecera_paralellize)"
   ]
  },
  {
   "cell_type": "code",
   "execution_count": 115,
   "metadata": {
    "id": "7i7emv_EpAlZ"
   },
   "outputs": [],
   "source": [
    "complementario = complementario.map(lambda x: x.split(';'))"
   ]
  },
  {
   "cell_type": "code",
   "execution_count": 153,
   "metadata": {
    "id": "YFfOrTDRpAfe"
   },
   "outputs": [],
   "source": [
    "complementario_categ = complementario.map(lambda x: ((int(x[0]), (x[10], x[11], x[13], x[14], x[19], x[23], x[25]))))"
   ]
  },
  {
   "cell_type": "markdown",
   "metadata": {
    "id": "sWO5_nne0AIS"
   },
   "source": [
    "En mi opinión, las viviendas con mejores servicios serán aquellas que presenten un mayor número de cualidades \"Excelentes\" o \"Buenas\" y, una vez consideradas esos datos, calcular el número de habitaciones, baños, etc., para cada una de ellas.\n",
    "\n",
    "Para saber cuáles son las viviendas con mejores servicios, lo que haré será filtrar aquellos servicios excelentes en aquellas categorías en las que sea posible. En mi caso, consideraré las siguientes variables:\n",
    "\n",
    "+ Calidad de revestimiento exterior,\n",
    "\n",
    "+ Estado del sótano,\n",
    "\n",
    "+ Calidad de la calefacción,\n",
    "\n",
    "+ Aire acondicionado incorporado,\n",
    "\n",
    "+ Calidad de la cocina,\n",
    "\n",
    "+ Estado del garaje,\n",
    "\n",
    "+ Piscina.\n",
    "\n",
    "Mi forma de proceder será la siguiente: trataré de hacer un filtro para establecer cuáles son las viviendas con un mayor número de características en estado \"Excelente\" o \"Bueno\", presencia de aire y/o piscina. Con el \"problema\" que me topé fue que no había calidades excelentes y buenas en todas esas columnas. Por ello, prescindiré de las cualidades \"excelente\" y \"buena\" del garaje, pues si selecciono esas, no obtengo ningún valor para las otras. Considero más importantes unas altas cualidades en el resto de variables que en el garaje (mucho más importante que la calefacción sea buena a que el garaje esté impoluto). En mi caso, consideraré que un nivel \"TA\" (medio) del estado del garaje es más que aceptable como contribución al resto de características y cualidades.\n",
    "\n",
    "Las viviendas con mejores cualidades en revestimiento exterior, sótano, calefacción y cocina son: "
   ]
  },
  {
   "cell_type": "code",
   "execution_count": 166,
   "metadata": {
    "colab": {
     "base_uri": "https://localhost:8080/"
    },
    "id": "fmC7a-sdw7kE",
    "outputId": "a70bf265-d7db-4433-ea6e-fc99ec92fe0f"
   },
   "outputs": [
    {
     "data": {
      "text/plain": [
       "[(1184, ('Ex', 'Ex', 'Ex', 'Y', 'Ex', 'TA', 'Sp')),\n",
       " (2391, ('Ex', 'Gd', 'Ex', 'Y', 'Ex', 'TA', 'Sp')),\n",
       " (575, ('Ex', 'Gd', 'Ex', 'Y', 'Ex', 'TA', 'Sp')),\n",
       " (2334, ('Ex', 'Gd', 'Ex', 'Y', 'Ex', 'TA', 'Sp')),\n",
       " (2383, ('Ex', 'Gd', 'Ex', 'Y', 'Ex', 'TA', 'Sp')),\n",
       " (1778, ('Ex', 'Gd', 'Ex', 'Y', 'Ex', 'TA', 'Sp')),\n",
       " (1200, ('Ex', 'Gd', 'Ex', 'Y', 'Gd', 'TA', 'Sp')),\n",
       " (296, ('Ex', 'Gd', 'Ex', 'Y', 'Gd', 'TA', 'Sp')),\n",
       " (2409, ('Ex', 'Gd', 'Ex', 'Y', 'Gd', 'TA', 'Sp')),\n",
       " (2517, ('Gd', 'Gd', 'Ex', 'Y', 'Ex', 'TA', 'Sp')),\n",
       " (2429, ('Gd', 'Gd', 'Ex', 'Y', 'Ex', 'TA', 'Sp')),\n",
       " (441, ('Gd', 'Gd', 'Ex', 'Y', 'Ex', 'TA', 'Sp')),\n",
       " (1018, ('Gd', 'Gd', 'Ex', 'Y', 'Ex', 'TA', 'Sp')),\n",
       " (1012, ('Gd', 'Gd', 'Ex', 'Y', 'Ex', 'TA', 'Sp')),\n",
       " (2408, ('Gd', 'Gd', 'Ex', 'Y', 'Ex', 'TA', 'Sp')),\n",
       " (1808, ('Gd', 'Gd', 'Ex', 'Y', 'Gd', 'Sg', 'Sp')),\n",
       " (545, ('Gd', 'Gd', 'Ex', 'Y', 'Gd', 'TA', 'Sp')),\n",
       " (547, ('Gd', 'Gd', 'Ex', 'Y', 'Gd', 'TA', 'Sp')),\n",
       " (1642, ('Gd', 'Gd', 'Ex', 'Y', 'Gd', 'TA', 'Sp')),\n",
       " (1838, ('Gd', 'Gd', 'Ex', 'Y', 'Gd', 'TA', 'Sp')),\n",
       " (2122, ('Gd', 'Gd', 'Ex', 'Y', 'Gd', 'TA', 'Sp')),\n",
       " (2332, ('Gd', 'Gd', 'Ex', 'Y', 'Gd', 'TA', 'Sp')),\n",
       " (2455, ('Gd', 'Gd', 'Ex', 'Y', 'Gd', 'TA', 'Sp')),\n",
       " (2463, ('Gd', 'Gd', 'Ex', 'Y', 'Gd', 'TA', 'Sp')),\n",
       " (2757, ('Gd', 'Gd', 'Ex', 'Y', 'Gd', 'TA', 'Sp')),\n",
       " (2800, ('Gd', 'Gd', 'Ex', 'Y', 'Gd', 'TA', 'Sp')),\n",
       " (340, ('Gd', 'Gd', 'Ex', 'Y', 'Gd', 'TA', 'Sp')),\n",
       " (465, ('Gd', 'Gd', 'Ex', 'Y', 'Gd', 'TA', 'Sp')),\n",
       " (805, ('Gd', 'Gd', 'Ex', 'Y', 'Gd', 'TA', 'Sp')),\n",
       " (1721, ('Gd', 'Gd', 'Ex', 'Y', 'Gd', 'TA', 'Sp')),\n",
       " (1811, ('Gd', 'Gd', 'Ex', 'Y', 'Gd', 'TA', 'Sp')),\n",
       " (1839, ('Gd', 'Gd', 'Ex', 'Y', 'Gd', 'TA', 'Sp')),\n",
       " (2096, ('Gd', 'Gd', 'Ex', 'Y', 'Gd', 'TA', 'Sp')),\n",
       " (2277, ('Gd', 'Gd', 'Ex', 'Y', 'Gd', 'TA', 'Sp')),\n",
       " (2414, ('Gd', 'Gd', 'Ex', 'Y', 'Gd', 'TA', 'Sp')),\n",
       " (2809, ('Gd', 'Gd', 'Ex', 'Y', 'Gd', 'TA', 'Sp')),\n",
       " (2901, ('Gd', 'Gd', 'Ex', 'Y', 'Gd', 'TA', 'Sp')),\n",
       " (2901, ('Gd', 'Gd', 'Ex', 'Y', 'Gd', 'TA', 'Sp')),\n",
       " (505, ('Gd', 'Gd', 'Ex', 'Y', 'Gd', 'TA', 'Sp')),\n",
       " (525, ('Gd', 'Gd', 'Ex', 'Y', 'Gd', 'TA', 'Sp')),\n",
       " (535, ('Gd', 'Gd', 'Ex', 'Y', 'Gd', 'TA', 'Sp')),\n",
       " (1083, ('Gd', 'Gd', 'Ex', 'Y', 'Gd', 'TA', 'Sp')),\n",
       " (1582, ('Gd', 'Gd', 'Ex', 'Y', 'Gd', 'TA', 'Sp')),\n",
       " (2322, ('Gd', 'Gd', 'Ex', 'Y', 'Gd', 'TA', 'Sp')),\n",
       " (2502, ('Gd', 'Gd', 'Ex', 'Y', 'Gd', 'TA', 'Sp')),\n",
       " (915, ('Gd', 'Gd', 'Ex', 'Y', 'Gd', 'TA', 'Sp')),\n",
       " (1615, ('Gd', 'Gd', 'Ex', 'Y', 'Gd', 'TA', 'Sp')),\n",
       " (1695, ('Gd', 'Gd', 'Ex', 'Y', 'Gd', 'TA', 'Sp')),\n",
       " (1720, ('Gd', 'Gd', 'Ex', 'Y', 'Gd', 'TA', 'Sp')),\n",
       " (1722, ('Gd', 'Gd', 'Ex', 'Y', 'Gd', 'TA', 'Sp')),\n",
       " (1787, ('Gd', 'Gd', 'Ex', 'Y', 'Gd', 'TA', 'Sp')),\n",
       " (1790, ('Gd', 'Gd', 'Ex', 'Y', 'Gd', 'TA', 'Sp')),\n",
       " (2119, ('Gd', 'Gd', 'Ex', 'Y', 'Gd', 'TA', 'Sp')),\n",
       " (2384, ('Gd', 'Gd', 'Ex', 'Y', 'Gd', 'TA', 'Sp')),\n",
       " (2433, ('Gd', 'Gd', 'Ex', 'Y', 'Gd', 'TA', 'Sp')),\n",
       " (2456, ('Gd', 'Gd', 'Ex', 'Y', 'Gd', 'TA', 'Sp')),\n",
       " (2467, ('Gd', 'Gd', 'Ex', 'Y', 'Gd', 'TA', 'Sp')),\n",
       " (2470, ('Gd', 'Gd', 'Ex', 'Y', 'Gd', 'TA', 'Sp')),\n",
       " (2754, ('Gd', 'Gd', 'Ex', 'Y', 'Gd', 'TA', 'Sp')),\n",
       " (2380, ('Gd', 'Gd', 'Gd', 'Y', 'Ex', 'TA', 'Sp')),\n",
       " (2328, ('Gd', 'Gd', 'Gd', 'Y', 'Gd', 'TA', 'Sp')),\n",
       " (2344, ('Gd', 'Gd', 'Gd', 'Y', 'Gd', 'TA', 'Sp')),\n",
       " (564, ('Gd', 'Gd', 'Gd', 'Y', 'Gd', 'TA', 'Sp'))]"
      ]
     },
     "execution_count": 166,
     "metadata": {
      "tags": []
     },
     "output_type": "execute_result"
    }
   ],
   "source": [
    "complementario_categ.filter(lambda x: (x[1][0] == 'Ex'  or x[1][0] == 'Gd') and (x[1][1] == 'Ex' or x[1][1] == 'Gd') and (x[1][2] == 'Ex' or x[1][2] == 'Gd') and (x[1][4] == 'Ex' or x[1][4]=='Gd')).\\\n",
    "                     sortBy(lambda x: x[1]).collect()"
   ]
  },
  {
   "cell_type": "markdown",
   "metadata": {
    "id": "cexiS_JzI9H-"
   },
   "source": [
    "Todas las filtradas presentan aire acondicionado, que es un plus muy convincente, pero ninguna de ellas presenta piscina. \n",
    "\n",
    "Vemos que la vivienda con identificador 1184 es la que presenta un mayor número de características \"Excelentes\", particularmente en todas aquellas consideradas con la posibilidad de alcanzar esa cualidad de excelencia. Tiene aire acondicionado y un estado del garaje aceptable.\n",
    "\n",
    "El precio de esa vivienda es de:"
   ]
  },
  {
   "cell_type": "code",
   "execution_count": 173,
   "metadata": {
    "colab": {
     "base_uri": "https://localhost:8080/"
    },
    "id": "UlXEUfklJoZp",
    "outputId": "f13ef0e8-8572-4aed-d1e8-49b5557ee8a8"
   },
   "outputs": [
    {
     "name": "stdout",
     "output_type": "stream",
     "text": [
      "El precio de la vivienda con un mayor número de cualidades excelentes es de: [290000.0] $\n"
     ]
    }
   ],
   "source": [
    "print(\"El precio de la vivienda con un mayor número de cualidades excelentes es de:\", complementario.filter(lambda x: int(x[0]) == 1184).map(lambda x: float(x[-1])).collect(), \"$\")"
   ]
  },
  {
   "cell_type": "markdown",
   "metadata": {
    "id": "AbcpZwZbI9Bd"
   },
   "source": [
    "Las 5 siguientes presentan unas condiciones excelentes en calidad de revestimiento exterior, calefacción y cocina, y bueno en sótano. Estas son también muy buenas opciones puesto que solo presentan una cualidad no excelente en estado del sótano, que, bajo mi opinión, no es demasiado útil puesto que las características de la vivienda en sí es lo que más se va a utilizar de forma continuada, mientras que el sótano lo usaremos de forma asidua o para otros fines, y con una condición \"Buena\" es suficiente. \n",
    "\n",
    "Los identificadores de estas casas son: 1391, 575, 2334, 2383, 1778. Todas presentan aire acondicionado, un garaje aceptable y no tienen piscina.\n",
    "\n",
    "Los precios de estas viviendas son: "
   ]
  },
  {
   "cell_type": "code",
   "execution_count": 176,
   "metadata": {
    "colab": {
     "base_uri": "https://localhost:8080/"
    },
    "id": "mPFLrRLmK9U4",
    "outputId": "d6c42934-c086-4d17-fd10-daeaf54a78be"
   },
   "outputs": [
    {
     "name": "stdout",
     "output_type": "stream",
     "text": [
      "El precio de la vivienda con identificador 2391 es de: [338500.0] $\n",
      "El precio de la vivienda con identificador 575 es de: [318750.0] $\n",
      "El precio de la vivienda con identificador 2334 es de: [361919.0] $\n",
      "El precio de la vivienda con identificador 2383 es de: [465000.0] $\n",
      "El precio de la vivienda con identificador 1778 es de: [320000.0] $\n"
     ]
    }
   ],
   "source": [
    "print(\"El precio de la vivienda con identificador 2391 es de:\", complementario.filter(lambda x: int(x[0]) == 2391).map(lambda x: float(x[-1])).collect(), \"$\")\n",
    "print(\"El precio de la vivienda con identificador 575 es de:\", complementario.filter(lambda x: int(x[0]) == 575).map(lambda x: float(x[-1])).collect(), \"$\")\n",
    "print(\"El precio de la vivienda con identificador 2334 es de:\", complementario.filter(lambda x: int(x[0]) == 2334).map(lambda x: float(x[-1])).collect(), \"$\")\n",
    "print(\"El precio de la vivienda con identificador 2383 es de:\", complementario.filter(lambda x: int(x[0]) == 2383).map(lambda x: float(x[-1])).collect(), \"$\")\n",
    "print(\"El precio de la vivienda con identificador 1778 es de:\", complementario.filter(lambda x: int(x[0]) == 1778).map(lambda x: float(x[-1])).collect(), \"$\")"
   ]
  },
  {
   "cell_type": "markdown",
   "metadata": {
    "id": "Hz6MteKTMreE"
   },
   "source": [
    "Tomando las variables: \n",
    "\n",
    "+ `Año de reforma`,\n",
    "\n",
    "+ `Número de baños completos`\n",
    "\n",
    "+ `Número de dormitorios`\n",
    "\n",
    "+ `Número de cocinas`\n",
    "\n",
    "para las 6 casas que he escogido como las \"mejores\" en cuanto a cualidades de la vivienda, podremos comparar sus características:"
   ]
  },
  {
   "cell_type": "code",
   "execution_count": 196,
   "metadata": {
    "colab": {
     "base_uri": "https://localhost:8080/"
    },
    "id": "rXPA1qqpNSuI",
    "outputId": "c9474941-9e45-4a5b-f667-4749abaa6afd"
   },
   "outputs": [
    {
     "data": {
      "text/plain": [
       "[('2007', '3', '3', '1', '290000')]"
      ]
     },
     "execution_count": 196,
     "metadata": {
      "tags": []
     },
     "output_type": "execute_result"
    }
   ],
   "source": [
    "complementario.filter(lambda x: int(x[0]) == 1184).map(lambda x: (x[8], x[15], x[17], x[18], x[-1])).collect()"
   ]
  },
  {
   "cell_type": "code",
   "execution_count": 195,
   "metadata": {
    "colab": {
     "base_uri": "https://localhost:8080/"
    },
    "id": "aCeaFOqhL-yC",
    "outputId": "d2eef485-41a2-43f2-c680-5e9f40ed0622"
   },
   "outputs": [
    {
     "data": {
      "text/plain": [
       "[('2006', '2', '3', '1', '338500')]"
      ]
     },
     "execution_count": 195,
     "metadata": {
      "tags": []
     },
     "output_type": "execute_result"
    }
   ],
   "source": [
    "complementario.filter(lambda x: int(x[0]) == 2391).map(lambda x: (x[8], x[15], x[17], x[18], x[-1])).collect()"
   ]
  },
  {
   "cell_type": "code",
   "execution_count": 190,
   "metadata": {
    "colab": {
     "base_uri": "https://localhost:8080/"
    },
    "id": "_GUetSLGMecT",
    "outputId": "85444869-cca2-4684-ba0b-264c686e1730"
   },
   "outputs": [
    {
     "data": {
      "text/plain": [
       "[('2008', '2', '2', '1', '318750')]"
      ]
     },
     "execution_count": 190,
     "metadata": {
      "tags": []
     },
     "output_type": "execute_result"
    }
   ],
   "source": [
    "complementario.filter(lambda x: int(x[0]) == 575).map(lambda x: (x[8], x[15], x[17], x[18], x[-1])).collect()"
   ]
  },
  {
   "cell_type": "code",
   "execution_count": 191,
   "metadata": {
    "colab": {
     "base_uri": "https://localhost:8080/"
    },
    "id": "l61yf-ZpMhzh",
    "outputId": "42a27cb3-78df-44fb-e5e0-821fc5309f13"
   },
   "outputs": [
    {
     "data": {
      "text/plain": [
       "[('2006', '2', '4', '1', '361919')]"
      ]
     },
     "execution_count": 191,
     "metadata": {
      "tags": []
     },
     "output_type": "execute_result"
    }
   ],
   "source": [
    "complementario.filter(lambda x: int(x[0]) == 2334).map(lambda x: (x[8], x[15], x[17], x[18], x[-1])).collect()"
   ]
  },
  {
   "cell_type": "code",
   "execution_count": 192,
   "metadata": {
    "colab": {
     "base_uri": "https://localhost:8080/"
    },
    "id": "5KrpIyOuMiRT",
    "outputId": "0c889433-96d0-4a91-a737-1469be24861f"
   },
   "outputs": [
    {
     "data": {
      "text/plain": [
       "[('2006', '2', '2', '1', '465000')]"
      ]
     },
     "execution_count": 192,
     "metadata": {
      "tags": []
     },
     "output_type": "execute_result"
    }
   ],
   "source": [
    "complementario.filter(lambda x: int(x[0]) == 2383).map(lambda x: (x[8], x[15], x[17], x[18], x[-1])).collect()"
   ]
  },
  {
   "cell_type": "code",
   "execution_count": 193,
   "metadata": {
    "colab": {
     "base_uri": "https://localhost:8080/"
    },
    "id": "H0_92NtLMiw0",
    "outputId": "d7cb5b2a-9ff8-4bd4-97f6-48d9faf98bd2"
   },
   "outputs": [
    {
     "data": {
      "text/plain": [
       "[('2006', '2', '3', '1', '320000')]"
      ]
     },
     "execution_count": 193,
     "metadata": {
      "tags": []
     },
     "output_type": "execute_result"
    }
   ],
   "source": [
    "complementario.filter(lambda x: int(x[0]) == 1778).map(lambda x: (x[8], x[15], x[17], x[18], x[-1])).collect()"
   ]
  },
  {
   "cell_type": "markdown",
   "metadata": {
    "id": "XagEobtpNa2P"
   },
   "source": [
    "Visto esto, la mejor casa, sin duda, en base a las características de cualidades excelentes, aire acondicionado, año de reforma, número de baños, de dormitorios y de cocinas es la vivienda 1184, pues cuesta aproximadamente un 15% menos que las otras consideradas, teniendo incluso mejores características, más dormitorios y más baños. \n",
    "\n",
    "Al contrario, la menos rentable en este caso sería la del indicador 2383, pues presenta características ligeramente peores, menor númeor de dormitorio y baños y es la más cara."
   ]
  }
 ],
 "metadata": {
  "colab": {
   "collapsed_sections": [],
   "name": "examen2021_MBC.ipynb",
   "provenance": []
  },
  "kernelspec": {
   "display_name": "Python 3",
   "language": "python",
   "name": "python3"
  },
  "language_info": {
   "codemirror_mode": {
    "name": "ipython",
    "version": 3
   },
   "file_extension": ".py",
   "mimetype": "text/x-python",
   "name": "python",
   "nbconvert_exporter": "python",
   "pygments_lexer": "ipython3",
   "version": "3.8.5"
  },
  "toc": {
   "base_numbering": 1,
   "nav_menu": {},
   "number_sections": true,
   "sideBar": true,
   "skip_h1_title": false,
   "title_cell": "Table of Contents",
   "title_sidebar": "Contents",
   "toc_cell": false,
   "toc_position": {},
   "toc_section_display": true,
   "toc_window_display": true
  }
 },
 "nbformat": 4,
 "nbformat_minor": 1
}
